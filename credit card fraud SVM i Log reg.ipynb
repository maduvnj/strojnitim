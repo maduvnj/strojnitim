{
 "cells": [
  {
   "cell_type": "code",
   "execution_count": 2,
   "metadata": {},
   "outputs": [],
   "source": [
    "import pandas as pd\n",
    "import numpy as np\n",
    "import matplotlib.pyplot as plt\n",
    "import seaborn as sns \n",
    "sns.set(style=\"whitegrid\", color_codes=True)\n",
    "import matplotlib.gridspec as gridspec\n",
    "\n",
    "# functions needed for pr_auc_score()\n",
    "from sklearn.metrics import auc, precision_recall_curve\n",
    "\n",
    "from sklearn.metrics import confusion_matrix\n",
    "\n",
    "# functions needed for imbalanced_cross_validation_score()\n",
    "from sklearn.model_selection import StratifiedKFold\n",
    "\n",
    "# sampler objects\n",
    "from imblearn.over_sampling import RandomOverSampler, SMOTE, ADASYN\n",
    "from imblearn.under_sampling import RandomUnderSampler\n",
    "\n",
    "# Classification models to compare\n",
    "from sklearn.linear_model import LogisticRegression\n",
    "from sklearn.ensemble import RandomForestClassifier, ExtraTreesClassifier, AdaBoostClassifier\n",
    "from sklearn.neural_network import MLPClassifier\n",
    "\n",
    "from imblearn.pipeline import Pipeline\n",
    "from sklearn.model_selection import GridSearchCV\n",
    "\n"
   ]
  },
  {
   "cell_type": "code",
   "execution_count": 3,
   "metadata": {},
   "outputs": [],
   "source": [
    "df=pd.read_csv('./creditcard.csv')"
   ]
  },
  {
   "cell_type": "code",
   "execution_count": 4,
   "metadata": {},
   "outputs": [
    {
     "data": {
      "text/html": [
       "<div>\n",
       "<style scoped>\n",
       "    .dataframe tbody tr th:only-of-type {\n",
       "        vertical-align: middle;\n",
       "    }\n",
       "\n",
       "    .dataframe tbody tr th {\n",
       "        vertical-align: top;\n",
       "    }\n",
       "\n",
       "    .dataframe thead th {\n",
       "        text-align: right;\n",
       "    }\n",
       "</style>\n",
       "<table border=\"1\" class=\"dataframe\">\n",
       "  <thead>\n",
       "    <tr style=\"text-align: right;\">\n",
       "      <th></th>\n",
       "      <th>Time</th>\n",
       "      <th>V1</th>\n",
       "      <th>V2</th>\n",
       "      <th>V3</th>\n",
       "      <th>V4</th>\n",
       "      <th>V5</th>\n",
       "      <th>V6</th>\n",
       "      <th>V7</th>\n",
       "      <th>V8</th>\n",
       "      <th>V9</th>\n",
       "      <th>...</th>\n",
       "      <th>V21</th>\n",
       "      <th>V22</th>\n",
       "      <th>V23</th>\n",
       "      <th>V24</th>\n",
       "      <th>V25</th>\n",
       "      <th>V26</th>\n",
       "      <th>V27</th>\n",
       "      <th>V28</th>\n",
       "      <th>Amount</th>\n",
       "      <th>Class</th>\n",
       "    </tr>\n",
       "  </thead>\n",
       "  <tbody>\n",
       "    <tr>\n",
       "      <th>0</th>\n",
       "      <td>0.0</td>\n",
       "      <td>-1.359807</td>\n",
       "      <td>-0.072781</td>\n",
       "      <td>2.536347</td>\n",
       "      <td>1.378155</td>\n",
       "      <td>-0.338321</td>\n",
       "      <td>0.462388</td>\n",
       "      <td>0.239599</td>\n",
       "      <td>0.098698</td>\n",
       "      <td>0.363787</td>\n",
       "      <td>...</td>\n",
       "      <td>-0.018307</td>\n",
       "      <td>0.277838</td>\n",
       "      <td>-0.110474</td>\n",
       "      <td>0.066928</td>\n",
       "      <td>0.128539</td>\n",
       "      <td>-0.189115</td>\n",
       "      <td>0.133558</td>\n",
       "      <td>-0.021053</td>\n",
       "      <td>149.62</td>\n",
       "      <td>0</td>\n",
       "    </tr>\n",
       "    <tr>\n",
       "      <th>1</th>\n",
       "      <td>0.0</td>\n",
       "      <td>1.191857</td>\n",
       "      <td>0.266151</td>\n",
       "      <td>0.166480</td>\n",
       "      <td>0.448154</td>\n",
       "      <td>0.060018</td>\n",
       "      <td>-0.082361</td>\n",
       "      <td>-0.078803</td>\n",
       "      <td>0.085102</td>\n",
       "      <td>-0.255425</td>\n",
       "      <td>...</td>\n",
       "      <td>-0.225775</td>\n",
       "      <td>-0.638672</td>\n",
       "      <td>0.101288</td>\n",
       "      <td>-0.339846</td>\n",
       "      <td>0.167170</td>\n",
       "      <td>0.125895</td>\n",
       "      <td>-0.008983</td>\n",
       "      <td>0.014724</td>\n",
       "      <td>2.69</td>\n",
       "      <td>0</td>\n",
       "    </tr>\n",
       "    <tr>\n",
       "      <th>2</th>\n",
       "      <td>1.0</td>\n",
       "      <td>-1.358354</td>\n",
       "      <td>-1.340163</td>\n",
       "      <td>1.773209</td>\n",
       "      <td>0.379780</td>\n",
       "      <td>-0.503198</td>\n",
       "      <td>1.800499</td>\n",
       "      <td>0.791461</td>\n",
       "      <td>0.247676</td>\n",
       "      <td>-1.514654</td>\n",
       "      <td>...</td>\n",
       "      <td>0.247998</td>\n",
       "      <td>0.771679</td>\n",
       "      <td>0.909412</td>\n",
       "      <td>-0.689281</td>\n",
       "      <td>-0.327642</td>\n",
       "      <td>-0.139097</td>\n",
       "      <td>-0.055353</td>\n",
       "      <td>-0.059752</td>\n",
       "      <td>378.66</td>\n",
       "      <td>0</td>\n",
       "    </tr>\n",
       "    <tr>\n",
       "      <th>3</th>\n",
       "      <td>1.0</td>\n",
       "      <td>-0.966272</td>\n",
       "      <td>-0.185226</td>\n",
       "      <td>1.792993</td>\n",
       "      <td>-0.863291</td>\n",
       "      <td>-0.010309</td>\n",
       "      <td>1.247203</td>\n",
       "      <td>0.237609</td>\n",
       "      <td>0.377436</td>\n",
       "      <td>-1.387024</td>\n",
       "      <td>...</td>\n",
       "      <td>-0.108300</td>\n",
       "      <td>0.005274</td>\n",
       "      <td>-0.190321</td>\n",
       "      <td>-1.175575</td>\n",
       "      <td>0.647376</td>\n",
       "      <td>-0.221929</td>\n",
       "      <td>0.062723</td>\n",
       "      <td>0.061458</td>\n",
       "      <td>123.50</td>\n",
       "      <td>0</td>\n",
       "    </tr>\n",
       "    <tr>\n",
       "      <th>4</th>\n",
       "      <td>2.0</td>\n",
       "      <td>-1.158233</td>\n",
       "      <td>0.877737</td>\n",
       "      <td>1.548718</td>\n",
       "      <td>0.403034</td>\n",
       "      <td>-0.407193</td>\n",
       "      <td>0.095921</td>\n",
       "      <td>0.592941</td>\n",
       "      <td>-0.270533</td>\n",
       "      <td>0.817739</td>\n",
       "      <td>...</td>\n",
       "      <td>-0.009431</td>\n",
       "      <td>0.798278</td>\n",
       "      <td>-0.137458</td>\n",
       "      <td>0.141267</td>\n",
       "      <td>-0.206010</td>\n",
       "      <td>0.502292</td>\n",
       "      <td>0.219422</td>\n",
       "      <td>0.215153</td>\n",
       "      <td>69.99</td>\n",
       "      <td>0</td>\n",
       "    </tr>\n",
       "  </tbody>\n",
       "</table>\n",
       "<p>5 rows × 31 columns</p>\n",
       "</div>"
      ],
      "text/plain": [
       "   Time        V1        V2        V3        V4        V5        V6        V7  \\\n",
       "0   0.0 -1.359807 -0.072781  2.536347  1.378155 -0.338321  0.462388  0.239599   \n",
       "1   0.0  1.191857  0.266151  0.166480  0.448154  0.060018 -0.082361 -0.078803   \n",
       "2   1.0 -1.358354 -1.340163  1.773209  0.379780 -0.503198  1.800499  0.791461   \n",
       "3   1.0 -0.966272 -0.185226  1.792993 -0.863291 -0.010309  1.247203  0.237609   \n",
       "4   2.0 -1.158233  0.877737  1.548718  0.403034 -0.407193  0.095921  0.592941   \n",
       "\n",
       "         V8        V9  ...       V21       V22       V23       V24       V25  \\\n",
       "0  0.098698  0.363787  ... -0.018307  0.277838 -0.110474  0.066928  0.128539   \n",
       "1  0.085102 -0.255425  ... -0.225775 -0.638672  0.101288 -0.339846  0.167170   \n",
       "2  0.247676 -1.514654  ...  0.247998  0.771679  0.909412 -0.689281 -0.327642   \n",
       "3  0.377436 -1.387024  ... -0.108300  0.005274 -0.190321 -1.175575  0.647376   \n",
       "4 -0.270533  0.817739  ... -0.009431  0.798278 -0.137458  0.141267 -0.206010   \n",
       "\n",
       "        V26       V27       V28  Amount  Class  \n",
       "0 -0.189115  0.133558 -0.021053  149.62      0  \n",
       "1  0.125895 -0.008983  0.014724    2.69      0  \n",
       "2 -0.139097 -0.055353 -0.059752  378.66      0  \n",
       "3 -0.221929  0.062723  0.061458  123.50      0  \n",
       "4  0.502292  0.219422  0.215153   69.99      0  \n",
       "\n",
       "[5 rows x 31 columns]"
      ]
     },
     "execution_count": 4,
     "metadata": {},
     "output_type": "execute_result"
    }
   ],
   "source": [
    "df.head()"
   ]
  },
  {
   "cell_type": "code",
   "execution_count": 5,
   "metadata": {},
   "outputs": [],
   "source": [
    "from sklearn import preprocessing\n",
    "from sklearn.model_selection import train_test_split\n",
    "A  = df.values\n",
    "x  = A[:,:-1]     \n",
    "y  = A[:,-1]\n",
    "vr=x[:,0]\n",
    "am=x[:,29]\n",
    "scaler = preprocessing.StandardScaler()\n",
    "\n",
    "vr=vr.reshape(-1,1)\n",
    "vr=scaler.fit_transform(vr)\n",
    "am=am.reshape(-1,1)\n",
    "am=scaler.fit_transform(am)\n",
    "\n",
    "x[:,0]=vr[:,0]\n",
    "x[:,29]=am[:,0]\n",
    "\n",
    "X_train, X_test, y_train, y_test = train_test_split(x, y, test_size=0.3, random_state=7)"
   ]
  },
  {
   "cell_type": "code",
   "execution_count": 6,
   "metadata": {},
   "outputs": [
    {
     "name": "stdout",
     "output_type": "stream",
     "text": [
      "(199364, 30)\n"
     ]
    }
   ],
   "source": [
    "print(X_train.shape)"
   ]
  },
  {
   "cell_type": "markdown",
   "metadata": {},
   "source": [
    "# Logistic regresion smote"
   ]
  },
  {
   "cell_type": "code",
   "execution_count": 18,
   "metadata": {},
   "outputs": [],
   "source": [
    "from sklearn.linear_model import LogisticRegression as LR\n",
    "lr_pipeline = Pipeline([('smt', SMOTE(random_state=42,sampling_strategy= 0.04)),\n",
    "                        ('classifier', LR(random_state = 5,solver='lbfgs',C= 0.085))\n",
    "                       ])"
   ]
  },
  {
   "cell_type": "code",
   "execution_count": 23,
   "metadata": {},
   "outputs": [],
   "source": [
    "from sklearn.model_selection import GridSearchCV #new with version 0.18\n",
    "from sklearn.model_selection import cross_validate\n",
    "lr_param_range = [0.075,0.085,0.01,0.03,0.1,0.3,0.5,0.8]\n",
    "lr_param_range1 = [0.01,0.04,0.06,0.1,0.3,0.5,0.9]\n",
    "lr_param_grid = [{'classifier__C':lr_param_range,'smt__sampling_strategy':lr_param_range1},\n",
    "                 \n",
    "                ]\n",
    "gridsearch_lr = GridSearchCV(estimator = lr_pipeline,\n",
    "                          param_grid = lr_param_grid,\n",
    "                          scoring='f1',\n",
    "                          n_jobs=1  ,verbose=100,\n",
    "                          cv = 2)\n"
   ]
  },
  {
   "cell_type": "code",
   "execution_count": 24,
   "metadata": {},
   "outputs": [
    {
     "name": "stdout",
     "output_type": "stream",
     "text": [
      "Fitting 2 folds for each of 1 candidates, totalling 2 fits\n",
      "[Parallel(n_jobs=1)]: Using backend SequentialBackend with 1 concurrent workers.\n",
      "[CV] classifier__C=0.085, smt__sampling_strategy=0.04 ................\n",
      "[CV]  classifier__C=0.085, smt__sampling_strategy=0.04, score=0.6585365853658536, total=   2.4s\n",
      "[Parallel(n_jobs=1)]: Done   1 out of   1 | elapsed:    2.4s remaining:    0.0s\n",
      "[CV] classifier__C=0.085, smt__sampling_strategy=0.04 ................\n",
      "[CV]  classifier__C=0.085, smt__sampling_strategy=0.04, score=0.7407407407407408, total=   1.6s\n",
      "[Parallel(n_jobs=1)]: Done   2 out of   2 | elapsed:    4.1s remaining:    0.0s\n",
      "[Parallel(n_jobs=1)]: Done   2 out of   2 | elapsed:    4.1s finished\n"
     ]
    },
    {
     "data": {
      "text/plain": [
       "GridSearchCV(cv=2, error_score='raise-deprecating',\n",
       "       estimator=Pipeline(memory=None,\n",
       "     steps=[('smt', SMOTE(k_neighbors=5, kind='deprecated', m_neighbors='deprecated', n_jobs=1,\n",
       "   out_step='deprecated', random_state=42, ratio=None,\n",
       "   sampling_strategy=0.04, svm_estimator='deprecated')), ('classifier', LogisticRegression(C=0.085, class_weight=None... penalty='l2', random_state=5, solver='lbfgs',\n",
       "          tol=0.0001, verbose=0, warm_start=False))]),\n",
       "       fit_params=None, iid='warn', n_jobs=1,\n",
       "       param_grid=[{'classifier__C': [0.085], 'smt__sampling_strategy': [0.04]}],\n",
       "       pre_dispatch='2*n_jobs', refit=True, return_train_score='warn',\n",
       "       scoring='f1', verbose=100)"
      ]
     },
     "execution_count": 24,
     "metadata": {},
     "output_type": "execute_result"
    }
   ],
   "source": [
    "gridsearch_lr.fit(X_train,y_train)"
   ]
  },
  {
   "cell_type": "code",
   "execution_count": 25,
   "metadata": {},
   "outputs": [
    {
     "name": "stdout",
     "output_type": "stream",
     "text": [
      "0.6996382507213046\n",
      "{'classifier__C': 0.085, 'smt__sampling_strategy': 0.04}\n"
     ]
    }
   ],
   "source": [
    "\n",
    "gridsearch_best_estimator_lr=gridsearch_lr.best_estimator_\n",
    "print(gridsearch_lr.best_score_)\n",
    "print(gridsearch_lr.best_params_)"
   ]
  },
  {
   "cell_type": "code",
   "execution_count": 16,
   "metadata": {},
   "outputs": [],
   "source": [
    "def draw_ConfusionMatrix(conf_matrix, classifier_name):\n",
    "    ''' The confusion matrix draw function'''\n",
    "    fig, ax = plt.subplots(figsize=(4.5, 4.5))\n",
    "    ax.matshow(conf_matrix, cmap=plt.cm.Greens, alpha=0.3)\n",
    "    for i in range(conf_matrix.shape[0]):\n",
    "        for j in range(conf_matrix.shape[1]):\n",
    "            ax.text(x=j, y=i, s=conf_matrix[i, j], va='center', ha='center')\n",
    "    plt.title('Confusion Matrix for %s' % classifier_name)\n",
    "    plt.xlabel('Predicted label')\n",
    "    plt.ylabel('True label')\n",
    "    plt.tight_layout()\n",
    "    plt.show()"
   ]
  },
  {
   "cell_type": "code",
   "execution_count": 28,
   "metadata": {},
   "outputs": [
    {
     "name": "stdout",
     "output_type": "stream",
     "text": [
      "[[85211    77]\n",
      " [   19   136]]\n"
     ]
    },
    {
     "data": {
      "image/png": "[encoded data removed]",
      "text/plain": [
       "<Figure size 324x324 with 1 Axes>"
      ]
     },
     "metadata": {
      "needs_background": "light"
     },
     "output_type": "display_data"
    },
    {
     "name": "stdout",
     "output_type": "stream",
     "text": [
      "Acc: 0.999\n",
      "Precision: 0.638\n",
      "Recall: 0.877\n",
      "F1: 0.739\n"
     ]
    }
   ],
   "source": [
    "from sklearn.metrics import precision_score, recall_score, f1_score\n",
    "\n",
    "bla=gridsearch_best_estimator_lr.fit(X_train,y_train)\n",
    "score = bla.score(X_test, y_test)\n",
    "y_pred=bla.predict(X_test)\n",
    "confmat=confusion_matrix(y_true=y_test,y_pred=y_pred)\n",
    "print(confmat)\n",
    "draw_ConfusionMatrix(confmat,\"Logistic Regresion with Smote\")\n",
    "print('Acc: %.3f' % score)\n",
    "print('Precision: %.3f' % precision_score(y_true=y_test, y_pred=y_pred))\n",
    "print('Recall: %.3f' % recall_score(y_true=y_test, y_pred=y_pred))\n",
    "print('F1: %.3f' % f1_score(y_true=y_test, y_pred=y_pred))\n"
   ]
  },
  {
   "cell_type": "markdown",
   "metadata": {},
   "source": [
    "# SVM smote\n"
   ]
  },
  {
   "cell_type": "code",
   "execution_count": 29,
   "metadata": {},
   "outputs": [],
   "source": [
    "from sklearn.svm import SVC\n",
    "pipe_svc = Pipeline(\n",
    "    [\n",
    "        (\n",
    "            'smt', SMOTE(random_state=42)\n",
    "        ),\n",
    "        (\n",
    "            'classifier', SVC(random_state = 5)\n",
    "        \n",
    "        )           \n",
    "    ]\n",
    "\n",
    ")"
   ]
  },
  {
   "cell_type": "code",
   "execution_count": 44,
   "metadata": {
    "scrolled": true
   },
   "outputs": [
    {
     "name": "stdout",
     "output_type": "stream",
     "text": [
      "Fitting 2 folds for each of 27 candidates, totalling 54 fits\n",
      "[Parallel(n_jobs=1)]: Using backend SequentialBackend with 1 concurrent workers.\n",
      "[CV] classifier__C=0.001, classifier__gamma=0.001, classifier__kernel=linear, smt__sampling_strategy=0.07 \n",
      "[CV]  classifier__C=0.001, classifier__gamma=0.001, classifier__kernel=linear, smt__sampling_strategy=0.07, score=0.8421052631578948, total=   1.3s\n",
      "[Parallel(n_jobs=1)]: Done   1 out of   1 | elapsed:    1.8s remaining:    0.0s\n",
      "[CV] classifier__C=0.001, classifier__gamma=0.001, classifier__kernel=linear, smt__sampling_strategy=0.07 \n",
      "[CV]  classifier__C=0.001, classifier__gamma=0.001, classifier__kernel=linear, smt__sampling_strategy=0.07, score=0.7999999999999999, total=   1.3s\n",
      "[Parallel(n_jobs=1)]: Done   2 out of   2 | elapsed:    3.5s remaining:    0.0s\n",
      "[CV] classifier__C=0.001, classifier__gamma=0.001, classifier__kernel=linear, smt__sampling_strategy=0.3 \n",
      "[CV]  classifier__C=0.001, classifier__gamma=0.001, classifier__kernel=linear, smt__sampling_strategy=0.3, score=0.5538461538461539, total=   3.8s\n",
      "[Parallel(n_jobs=1)]: Done   3 out of   3 | elapsed:    8.7s remaining:    0.0s\n",
      "[CV] classifier__C=0.001, classifier__gamma=0.001, classifier__kernel=linear, smt__sampling_strategy=0.3 \n",
      "[CV]  classifier__C=0.001, classifier__gamma=0.001, classifier__kernel=linear, smt__sampling_strategy=0.3, score=0.6017699115044248, total=   3.5s\n",
      "[Parallel(n_jobs=1)]: Done   4 out of   4 | elapsed:   13.4s remaining:    0.0s\n",
      "[CV] classifier__C=0.001, classifier__gamma=0.001, classifier__kernel=linear, smt__sampling_strategy=0.5 \n",
      "[CV]  classifier__C=0.001, classifier__gamma=0.001, classifier__kernel=linear, smt__sampling_strategy=0.5, score=0.3546798029556651, total=   6.5s\n",
      "[Parallel(n_jobs=1)]: Done   5 out of   5 | elapsed:   22.0s remaining:    0.0s\n",
      "[CV] classifier__C=0.001, classifier__gamma=0.001, classifier__kernel=linear, smt__sampling_strategy=0.5 \n",
      "[CV]  classifier__C=0.001, classifier__gamma=0.001, classifier__kernel=linear, smt__sampling_strategy=0.5, score=0.4755244755244756, total=   5.6s\n",
      "[Parallel(n_jobs=1)]: Done   6 out of   6 | elapsed:   29.3s remaining:    0.0s\n",
      "[CV] classifier__C=0.001, classifier__gamma=0.1, classifier__kernel=linear, smt__sampling_strategy=0.07 \n",
      "[CV]  classifier__C=0.001, classifier__gamma=0.1, classifier__kernel=linear, smt__sampling_strategy=0.07, score=0.8421052631578948, total=   1.3s\n",
      "[Parallel(n_jobs=1)]: Done   7 out of   7 | elapsed:   31.0s remaining:    0.0s\n",
      "[CV] classifier__C=0.001, classifier__gamma=0.1, classifier__kernel=linear, smt__sampling_strategy=0.07 \n",
      "[CV]  classifier__C=0.001, classifier__gamma=0.1, classifier__kernel=linear, smt__sampling_strategy=0.07, score=0.7999999999999999, total=   1.2s\n",
      "[Parallel(n_jobs=1)]: Done   8 out of   8 | elapsed:   32.7s remaining:    0.0s\n",
      "[CV] classifier__C=0.001, classifier__gamma=0.1, classifier__kernel=linear, smt__sampling_strategy=0.3 \n",
      "[CV]  classifier__C=0.001, classifier__gamma=0.1, classifier__kernel=linear, smt__sampling_strategy=0.3, score=0.5538461538461539, total=   3.8s\n",
      "[Parallel(n_jobs=1)]: Done   9 out of   9 | elapsed:   38.0s remaining:    0.0s\n",
      "[CV] classifier__C=0.001, classifier__gamma=0.1, classifier__kernel=linear, smt__sampling_strategy=0.3 \n",
      "[CV]  classifier__C=0.001, classifier__gamma=0.1, classifier__kernel=linear, smt__sampling_strategy=0.3, score=0.6017699115044248, total=   3.4s\n",
      "[Parallel(n_jobs=1)]: Done  10 out of  10 | elapsed:   42.5s remaining:    0.0s\n",
      "[CV] classifier__C=0.001, classifier__gamma=0.1, classifier__kernel=linear, smt__sampling_strategy=0.5 \n",
      "[CV]  classifier__C=0.001, classifier__gamma=0.1, classifier__kernel=linear, smt__sampling_strategy=0.5, score=0.3546798029556651, total=   6.4s\n",
      "[Parallel(n_jobs=1)]: Done  11 out of  11 | elapsed:   50.9s remaining:    0.0s\n",
      "[CV] classifier__C=0.001, classifier__gamma=0.1, classifier__kernel=linear, smt__sampling_strategy=0.5 \n",
      "[CV]  classifier__C=0.001, classifier__gamma=0.1, classifier__kernel=linear, smt__sampling_strategy=0.5, score=0.4755244755244756, total=   5.1s\n",
      "[Parallel(n_jobs=1)]: Done  12 out of  12 | elapsed:   57.7s remaining:    0.0s\n",
      "[CV] classifier__C=0.001, classifier__gamma=0.6, classifier__kernel=linear, smt__sampling_strategy=0.07 \n",
      "[CV]  classifier__C=0.001, classifier__gamma=0.6, classifier__kernel=linear, smt__sampling_strategy=0.07, score=0.8421052631578948, total=   1.2s\n",
      "[Parallel(n_jobs=1)]: Done  13 out of  13 | elapsed:   59.3s remaining:    0.0s\n",
      "[CV] classifier__C=0.001, classifier__gamma=0.6, classifier__kernel=linear, smt__sampling_strategy=0.07 \n",
      "[CV]  classifier__C=0.001, classifier__gamma=0.6, classifier__kernel=linear, smt__sampling_strategy=0.07, score=0.7999999999999999, total=   1.2s\n",
      "[Parallel(n_jobs=1)]: Done  14 out of  14 | elapsed:  1.0min remaining:    0.0s\n",
      "[CV] classifier__C=0.001, classifier__gamma=0.6, classifier__kernel=linear, smt__sampling_strategy=0.3 \n",
      "[CV]  classifier__C=0.001, classifier__gamma=0.6, classifier__kernel=linear, smt__sampling_strategy=0.3, score=0.5538461538461539, total=   3.8s\n",
      "[Parallel(n_jobs=1)]: Done  15 out of  15 | elapsed:  1.1min remaining:    0.0s\n",
      "[CV] classifier__C=0.001, classifier__gamma=0.6, classifier__kernel=linear, smt__sampling_strategy=0.3 \n",
      "[CV]  classifier__C=0.001, classifier__gamma=0.6, classifier__kernel=linear, smt__sampling_strategy=0.3, score=0.6017699115044248, total=   3.4s\n",
      "[Parallel(n_jobs=1)]: Done  16 out of  16 | elapsed:  1.2min remaining:    0.0s\n",
      "[CV] classifier__C=0.001, classifier__gamma=0.6, classifier__kernel=linear, smt__sampling_strategy=0.5 \n",
      "[CV]  classifier__C=0.001, classifier__gamma=0.6, classifier__kernel=linear, smt__sampling_strategy=0.5, score=0.3546798029556651, total=   6.4s\n",
      "[Parallel(n_jobs=1)]: Done  17 out of  17 | elapsed:  1.3min remaining:    0.0s\n",
      "[CV] classifier__C=0.001, classifier__gamma=0.6, classifier__kernel=linear, smt__sampling_strategy=0.5 \n",
      "[CV]  classifier__C=0.001, classifier__gamma=0.6, classifier__kernel=linear, smt__sampling_strategy=0.5, score=0.4755244755244756, total=   5.1s\n",
      "[Parallel(n_jobs=1)]: Done  18 out of  18 | elapsed:  1.4min remaining:    0.0s\n",
      "[CV] classifier__C=0.1, classifier__gamma=0.001, classifier__kernel=linear, smt__sampling_strategy=0.07 \n",
      "[CV]  classifier__C=0.1, classifier__gamma=0.001, classifier__kernel=linear, smt__sampling_strategy=0.07, score=0.7804878048780488, total=   1.2s\n",
      "[Parallel(n_jobs=1)]: Done  19 out of  19 | elapsed:  1.5min remaining:    0.0s\n",
      "[CV] classifier__C=0.1, classifier__gamma=0.001, classifier__kernel=linear, smt__sampling_strategy=0.07 \n",
      "[CV]  classifier__C=0.1, classifier__gamma=0.001, classifier__kernel=linear, smt__sampling_strategy=0.07, score=0.7252747252747251, total=   0.9s\n",
      "[Parallel(n_jobs=1)]: Done  20 out of  20 | elapsed:  1.5min remaining:    0.0s\n",
      "[CV] classifier__C=0.1, classifier__gamma=0.001, classifier__kernel=linear, smt__sampling_strategy=0.3 \n",
      "[CV]  classifier__C=0.1, classifier__gamma=0.001, classifier__kernel=linear, smt__sampling_strategy=0.3, score=0.3216080402010051, total=   3.0s\n",
      "[Parallel(n_jobs=1)]: Done  21 out of  21 | elapsed:  1.5min remaining:    0.0s\n",
      "[CV] classifier__C=0.1, classifier__gamma=0.001, classifier__kernel=linear, smt__sampling_strategy=0.3 \n",
      "[CV]  classifier__C=0.1, classifier__gamma=0.001, classifier__kernel=linear, smt__sampling_strategy=0.3, score=0.402439024390244, total=   2.6s\n",
      "[Parallel(n_jobs=1)]: Done  22 out of  22 | elapsed:  1.6min remaining:    0.0s\n",
      "[CV] classifier__C=0.1, classifier__gamma=0.001, classifier__kernel=linear, smt__sampling_strategy=0.5 \n",
      "[CV]  classifier__C=0.1, classifier__gamma=0.001, classifier__kernel=linear, smt__sampling_strategy=0.5, score=0.2390438247011952, total=   3.9s\n",
      "[Parallel(n_jobs=1)]: Done  23 out of  23 | elapsed:  1.7min remaining:    0.0s\n",
      "[CV] classifier__C=0.1, classifier__gamma=0.001, classifier__kernel=linear, smt__sampling_strategy=0.5 \n",
      "[CV]  classifier__C=0.1, classifier__gamma=0.001, classifier__kernel=linear, smt__sampling_strategy=0.5, score=0.2808510638297872, total=   4.5s\n",
      "[Parallel(n_jobs=1)]: Done  24 out of  24 | elapsed:  1.8min remaining:    0.0s\n",
      "[CV] classifier__C=0.1, classifier__gamma=0.1, classifier__kernel=linear, smt__sampling_strategy=0.07 \n",
      "[CV]  classifier__C=0.1, classifier__gamma=0.1, classifier__kernel=linear, smt__sampling_strategy=0.07, score=0.7804878048780488, total=   1.6s\n",
      "[Parallel(n_jobs=1)]: Done  25 out of  25 | elapsed:  1.8min remaining:    0.0s\n",
      "[CV] classifier__C=0.1, classifier__gamma=0.1, classifier__kernel=linear, smt__sampling_strategy=0.07 \n"
     ]
    },
    {
     "name": "stdout",
     "output_type": "stream",
     "text": [
      "[CV]  classifier__C=0.1, classifier__gamma=0.1, classifier__kernel=linear, smt__sampling_strategy=0.07, score=0.7252747252747251, total=   1.1s\n",
      "[Parallel(n_jobs=1)]: Done  26 out of  26 | elapsed:  1.8min remaining:    0.0s\n",
      "[CV] classifier__C=0.1, classifier__gamma=0.1, classifier__kernel=linear, smt__sampling_strategy=0.3 \n",
      "[CV]  classifier__C=0.1, classifier__gamma=0.1, classifier__kernel=linear, smt__sampling_strategy=0.3, score=0.3216080402010051, total=   3.2s\n",
      "[Parallel(n_jobs=1)]: Done  27 out of  27 | elapsed:  1.9min remaining:    0.0s\n",
      "[CV] classifier__C=0.1, classifier__gamma=0.1, classifier__kernel=linear, smt__sampling_strategy=0.3 \n",
      "[CV]  classifier__C=0.1, classifier__gamma=0.1, classifier__kernel=linear, smt__sampling_strategy=0.3, score=0.402439024390244, total=   2.5s\n",
      "[Parallel(n_jobs=1)]: Done  28 out of  28 | elapsed:  1.9min remaining:    0.0s\n",
      "[CV] classifier__C=0.1, classifier__gamma=0.1, classifier__kernel=linear, smt__sampling_strategy=0.5 \n",
      "[CV]  classifier__C=0.1, classifier__gamma=0.1, classifier__kernel=linear, smt__sampling_strategy=0.5, score=0.2390438247011952, total=   4.6s\n",
      "[Parallel(n_jobs=1)]: Done  29 out of  29 | elapsed:  2.0min remaining:    0.0s\n",
      "[CV] classifier__C=0.1, classifier__gamma=0.1, classifier__kernel=linear, smt__sampling_strategy=0.5 \n",
      "[CV]  classifier__C=0.1, classifier__gamma=0.1, classifier__kernel=linear, smt__sampling_strategy=0.5, score=0.2808510638297872, total=   4.2s\n",
      "[Parallel(n_jobs=1)]: Done  30 out of  30 | elapsed:  2.1min remaining:    0.0s\n",
      "[CV] classifier__C=0.1, classifier__gamma=0.6, classifier__kernel=linear, smt__sampling_strategy=0.07 \n",
      "[CV]  classifier__C=0.1, classifier__gamma=0.6, classifier__kernel=linear, smt__sampling_strategy=0.07, score=0.7804878048780488, total=   1.4s\n",
      "[Parallel(n_jobs=1)]: Done  31 out of  31 | elapsed:  2.2min remaining:    0.0s\n",
      "[CV] classifier__C=0.1, classifier__gamma=0.6, classifier__kernel=linear, smt__sampling_strategy=0.07 \n",
      "[CV]  classifier__C=0.1, classifier__gamma=0.6, classifier__kernel=linear, smt__sampling_strategy=0.07, score=0.7252747252747251, total=   0.9s\n",
      "[Parallel(n_jobs=1)]: Done  32 out of  32 | elapsed:  2.2min remaining:    0.0s\n",
      "[CV] classifier__C=0.1, classifier__gamma=0.6, classifier__kernel=linear, smt__sampling_strategy=0.3 \n",
      "[CV]  classifier__C=0.1, classifier__gamma=0.6, classifier__kernel=linear, smt__sampling_strategy=0.3, score=0.3216080402010051, total=   2.8s\n",
      "[Parallel(n_jobs=1)]: Done  33 out of  33 | elapsed:  2.2min remaining:    0.0s\n",
      "[CV] classifier__C=0.1, classifier__gamma=0.6, classifier__kernel=linear, smt__sampling_strategy=0.3 \n",
      "[CV]  classifier__C=0.1, classifier__gamma=0.6, classifier__kernel=linear, smt__sampling_strategy=0.3, score=0.402439024390244, total=   2.7s\n",
      "[Parallel(n_jobs=1)]: Done  34 out of  34 | elapsed:  2.3min remaining:    0.0s\n",
      "[CV] classifier__C=0.1, classifier__gamma=0.6, classifier__kernel=linear, smt__sampling_strategy=0.5 \n",
      "[CV]  classifier__C=0.1, classifier__gamma=0.6, classifier__kernel=linear, smt__sampling_strategy=0.5, score=0.2390438247011952, total=   3.7s\n",
      "[Parallel(n_jobs=1)]: Done  35 out of  35 | elapsed:  2.4min remaining:    0.0s\n",
      "[CV] classifier__C=0.1, classifier__gamma=0.6, classifier__kernel=linear, smt__sampling_strategy=0.5 \n",
      "[CV]  classifier__C=0.1, classifier__gamma=0.6, classifier__kernel=linear, smt__sampling_strategy=0.5, score=0.2808510638297872, total=   4.7s\n",
      "[Parallel(n_jobs=1)]: Done  36 out of  36 | elapsed:  2.5min remaining:    0.0s\n",
      "[CV] classifier__C=0.6, classifier__gamma=0.001, classifier__kernel=linear, smt__sampling_strategy=0.07 \n",
      "[CV]  classifier__C=0.6, classifier__gamma=0.001, classifier__kernel=linear, smt__sampling_strategy=0.07, score=0.7045454545454546, total=   2.1s\n",
      "[Parallel(n_jobs=1)]: Done  37 out of  37 | elapsed:  2.5min remaining:    0.0s\n",
      "[CV] classifier__C=0.6, classifier__gamma=0.001, classifier__kernel=linear, smt__sampling_strategy=0.07 \n",
      "[CV]  classifier__C=0.6, classifier__gamma=0.001, classifier__kernel=linear, smt__sampling_strategy=0.07, score=0.7096774193548387, total=   1.4s\n",
      "[Parallel(n_jobs=1)]: Done  38 out of  38 | elapsed:  2.5min remaining:    0.0s\n",
      "[CV] classifier__C=0.6, classifier__gamma=0.001, classifier__kernel=linear, smt__sampling_strategy=0.3 \n",
      "[CV]  classifier__C=0.6, classifier__gamma=0.001, classifier__kernel=linear, smt__sampling_strategy=0.3, score=0.31000000000000005, total=   5.3s\n",
      "[Parallel(n_jobs=1)]: Done  39 out of  39 | elapsed:  2.6min remaining:    0.0s\n",
      "[CV] classifier__C=0.6, classifier__gamma=0.001, classifier__kernel=linear, smt__sampling_strategy=0.3 \n",
      "[CV]  classifier__C=0.6, classifier__gamma=0.001, classifier__kernel=linear, smt__sampling_strategy=0.3, score=0.37426900584795325, total=   4.4s\n",
      "[Parallel(n_jobs=1)]: Done  40 out of  40 | elapsed:  2.7min remaining:    0.0s\n",
      "[CV] classifier__C=0.6, classifier__gamma=0.001, classifier__kernel=linear, smt__sampling_strategy=0.5 \n",
      "[CV]  classifier__C=0.6, classifier__gamma=0.001, classifier__kernel=linear, smt__sampling_strategy=0.5, score=0.2542372881355932, total=   6.6s\n",
      "[Parallel(n_jobs=1)]: Done  41 out of  41 | elapsed:  2.9min remaining:    0.0s\n",
      "[CV] classifier__C=0.6, classifier__gamma=0.001, classifier__kernel=linear, smt__sampling_strategy=0.5 \n",
      "[CV]  classifier__C=0.6, classifier__gamma=0.001, classifier__kernel=linear, smt__sampling_strategy=0.5, score=0.26122448979591834, total=   5.1s\n",
      "[Parallel(n_jobs=1)]: Done  42 out of  42 | elapsed:  3.0min remaining:    0.0s\n",
      "[CV] classifier__C=0.6, classifier__gamma=0.1, classifier__kernel=linear, smt__sampling_strategy=0.07 \n",
      "[CV]  classifier__C=0.6, classifier__gamma=0.1, classifier__kernel=linear, smt__sampling_strategy=0.07, score=0.7045454545454546, total=   2.5s\n",
      "[Parallel(n_jobs=1)]: Done  43 out of  43 | elapsed:  3.0min remaining:    0.0s\n",
      "[CV] classifier__C=0.6, classifier__gamma=0.1, classifier__kernel=linear, smt__sampling_strategy=0.07 \n",
      "[CV]  classifier__C=0.6, classifier__gamma=0.1, classifier__kernel=linear, smt__sampling_strategy=0.07, score=0.7096774193548387, total=   1.5s\n",
      "[Parallel(n_jobs=1)]: Done  44 out of  44 | elapsed:  3.0min remaining:    0.0s\n",
      "[CV] classifier__C=0.6, classifier__gamma=0.1, classifier__kernel=linear, smt__sampling_strategy=0.3 \n",
      "[CV]  classifier__C=0.6, classifier__gamma=0.1, classifier__kernel=linear, smt__sampling_strategy=0.3, score=0.31000000000000005, total=   4.6s\n",
      "[Parallel(n_jobs=1)]: Done  45 out of  45 | elapsed:  3.1min remaining:    0.0s\n",
      "[CV] classifier__C=0.6, classifier__gamma=0.1, classifier__kernel=linear, smt__sampling_strategy=0.3 \n",
      "[CV]  classifier__C=0.6, classifier__gamma=0.1, classifier__kernel=linear, smt__sampling_strategy=0.3, score=0.37426900584795325, total=   3.5s\n",
      "[Parallel(n_jobs=1)]: Done  46 out of  46 | elapsed:  3.2min remaining:    0.0s\n",
      "[CV] classifier__C=0.6, classifier__gamma=0.1, classifier__kernel=linear, smt__sampling_strategy=0.5 \n",
      "[CV]  classifier__C=0.6, classifier__gamma=0.1, classifier__kernel=linear, smt__sampling_strategy=0.5, score=0.2542372881355932, total=   6.3s\n",
      "[Parallel(n_jobs=1)]: Done  47 out of  47 | elapsed:  3.3min remaining:    0.0s\n",
      "[CV] classifier__C=0.6, classifier__gamma=0.1, classifier__kernel=linear, smt__sampling_strategy=0.5 \n",
      "[CV]  classifier__C=0.6, classifier__gamma=0.1, classifier__kernel=linear, smt__sampling_strategy=0.5, score=0.26122448979591834, total=   5.3s\n",
      "[Parallel(n_jobs=1)]: Done  48 out of  48 | elapsed:  3.4min remaining:    0.0s\n",
      "[CV] classifier__C=0.6, classifier__gamma=0.6, classifier__kernel=linear, smt__sampling_strategy=0.07 \n",
      "[CV]  classifier__C=0.6, classifier__gamma=0.6, classifier__kernel=linear, smt__sampling_strategy=0.07, score=0.7045454545454546, total=   2.1s\n",
      "[Parallel(n_jobs=1)]: Done  49 out of  49 | elapsed:  3.5min remaining:    0.0s\n",
      "[CV] classifier__C=0.6, classifier__gamma=0.6, classifier__kernel=linear, smt__sampling_strategy=0.07 \n",
      "[CV]  classifier__C=0.6, classifier__gamma=0.6, classifier__kernel=linear, smt__sampling_strategy=0.07, score=0.7096774193548387, total=   1.3s\n",
      "[Parallel(n_jobs=1)]: Done  50 out of  50 | elapsed:  3.5min remaining:    0.0s\n",
      "[CV] classifier__C=0.6, classifier__gamma=0.6, classifier__kernel=linear, smt__sampling_strategy=0.3 \n",
      "[CV]  classifier__C=0.6, classifier__gamma=0.6, classifier__kernel=linear, smt__sampling_strategy=0.3, score=0.31000000000000005, total=   4.5s\n",
      "[Parallel(n_jobs=1)]: Done  51 out of  51 | elapsed:  3.6min remaining:    0.0s\n",
      "[CV] classifier__C=0.6, classifier__gamma=0.6, classifier__kernel=linear, smt__sampling_strategy=0.3 \n"
     ]
    },
    {
     "name": "stdout",
     "output_type": "stream",
     "text": [
      "[CV]  classifier__C=0.6, classifier__gamma=0.6, classifier__kernel=linear, smt__sampling_strategy=0.3, score=0.37426900584795325, total=   3.5s\n",
      "[Parallel(n_jobs=1)]: Done  52 out of  52 | elapsed:  3.6min remaining:    0.0s\n",
      "[CV] classifier__C=0.6, classifier__gamma=0.6, classifier__kernel=linear, smt__sampling_strategy=0.5 \n",
      "[CV]  classifier__C=0.6, classifier__gamma=0.6, classifier__kernel=linear, smt__sampling_strategy=0.5, score=0.2542372881355932, total=   6.6s\n",
      "[Parallel(n_jobs=1)]: Done  53 out of  53 | elapsed:  3.8min remaining:    0.0s\n",
      "[CV] classifier__C=0.6, classifier__gamma=0.6, classifier__kernel=linear, smt__sampling_strategy=0.5 \n",
      "[CV]  classifier__C=0.6, classifier__gamma=0.6, classifier__kernel=linear, smt__sampling_strategy=0.5, score=0.26122448979591834, total=   5.2s\n",
      "[Parallel(n_jobs=1)]: Done  54 out of  54 | elapsed:  3.9min remaining:    0.0s\n",
      "[Parallel(n_jobs=1)]: Done  54 out of  54 | elapsed:  3.9min finished\n"
     ]
    }
   ],
   "source": [
    "from sklearn.metrics import precision_score, recall_score, f1_score\n",
    "param_range = [0.001,0.1,0.6]\n",
    "smt_param_range = [0.07,0.3,0.5]\n",
    "param_grid = [{'classifier__C': param_range\n",
    "               , \n",
    "               'smt__sampling_strategy':smt_param_range, \n",
    "               'classifier__kernel': ['linear']}]\n",
    "\n",
    "gs = GridSearchCV(estimator=pipe_svc, \n",
    "                  param_grid=param_grid, \n",
    "                  scoring='f1', \n",
    "                  cv=2,verbose=100,\n",
    "                  n_jobs=1)\n",
    "\n",
    "\n",
    "X_gridopt, X_train1, y_gridopt, y_train1 = train_test_split(x, y, test_size=0.85, random_state=5)\n",
    "gs = gs.fit(X_gridopt, y_gridopt)\n"
   ]
  },
  {
   "cell_type": "code",
   "execution_count": 45,
   "metadata": {},
   "outputs": [
    {
     "name": "stdout",
     "output_type": "stream",
     "text": [
      "{'classifier__C': 0.001, 'classifier__gamma': 0.001, 'classifier__kernel': 'linear', 'smt__sampling_strategy': 0.07}\n"
     ]
    }
   ],
   "source": [
    "print(gs.best_params_)\n",
    "gridsearch_best_estimator=gs.best_estimator_\n"
   ]
  },
  {
   "cell_type": "code",
   "execution_count": 46,
   "metadata": {},
   "outputs": [],
   "source": [
    "bla=gridsearch_best_estimator.fit(X_train,y_train) "
   ]
  },
  {
   "cell_type": "code",
   "execution_count": 47,
   "metadata": {},
   "outputs": [
    {
     "name": "stdout",
     "output_type": "stream",
     "text": [
      "[[85248    40]\n",
      " [   20   135]]\n"
     ]
    },
    {
     "data": {
      "image/png": "[encoded data removed]",
      "text/plain": [
       "<Figure size 324x324 with 1 Axes>"
      ]
     },
     "metadata": {
      "needs_background": "light"
     },
     "output_type": "display_data"
    },
    {
     "name": "stdout",
     "output_type": "stream",
     "text": [
      "Precision: 0.771\n",
      "Recall: 0.871\n",
      "F1: 0.818\n"
     ]
    }
   ],
   "source": [
    "y_pred=bla.predict(X_test)\n",
    "confmat=confusion_matrix(y_true=y_test,y_pred=y_pred)\n",
    "print(confmat)\n",
    "draw_ConfusionMatrix(confmat, 'svm smote')\n",
    "print('Precision: %.3f' % precision_score(y_true=y_test, y_pred=y_pred))\n",
    "print('Recall: %.3f' % recall_score(y_true=y_test, y_pred=y_pred))\n",
    "print('F1: %.3f' % f1_score(y_true=y_test, y_pred=y_pred))\n"
   ]
  },
  {
   "cell_type": "markdown",
   "metadata": {},
   "source": [
    "# SVM Pomoću traženja težina klasa\n"
   ]
  },
  {
   "cell_type": "code",
   "execution_count": 7,
   "metadata": {
    "scrolled": true
   },
   "outputs": [
    {
     "name": "stdout",
     "output_type": "stream",
     "text": [
      "Fitting 2 folds for each of 15 candidates, totalling 30 fits\n",
      "[Parallel(n_jobs=1)]: Using backend SequentialBackend with 1 concurrent workers.\n",
      "[CV] classifier__C=0.01, classifier__class_weight={0: 0.1, 1: 0.9}, classifier__kernel=linear \n",
      "[CV]  classifier__C=0.01, classifier__class_weight={0: 0.1, 1: 0.9}, classifier__kernel=linear, score=0.8421052631578948, total=   0.5s\n",
      "[Parallel(n_jobs=1)]: Done   1 out of   1 | elapsed:    0.7s remaining:    0.0s\n",
      "[CV] classifier__C=0.01, classifier__class_weight={0: 0.1, 1: 0.9}, classifier__kernel=linear \n",
      "[CV]  classifier__C=0.01, classifier__class_weight={0: 0.1, 1: 0.9}, classifier__kernel=linear, score=0.8461538461538461, total=   0.4s\n",
      "[Parallel(n_jobs=1)]: Done   2 out of   2 | elapsed:    1.2s remaining:    0.0s\n",
      "[CV] classifier__C=0.01, classifier__class_weight={0: 0.01, 1: 0.99}, classifier__kernel=linear \n",
      "[CV]  classifier__C=0.01, classifier__class_weight={0: 0.01, 1: 0.99}, classifier__kernel=linear, score=0.7356321839080461, total=   2.3s\n",
      "[Parallel(n_jobs=1)]: Done   3 out of   3 | elapsed:    4.3s remaining:    0.0s\n",
      "[CV] classifier__C=0.01, classifier__class_weight={0: 0.01, 1: 0.99}, classifier__kernel=linear \n",
      "[CV]  classifier__C=0.01, classifier__class_weight={0: 0.01, 1: 0.99}, classifier__kernel=linear, score=0.7999999999999999, total=   2.5s\n",
      "[Parallel(n_jobs=1)]: Done   4 out of   4 | elapsed:    8.0s remaining:    0.0s\n",
      "[CV] classifier__C=0.01, classifier__class_weight=balanced, classifier__kernel=linear \n",
      "[CV]  classifier__C=0.01, classifier__class_weight=balanced, classifier__kernel=linear, score=0.1641025641025641, total=   2.8s\n",
      "[Parallel(n_jobs=1)]: Done   5 out of   5 | elapsed:   11.9s remaining:    0.0s\n",
      "[CV] classifier__C=0.01, classifier__class_weight=balanced, classifier__kernel=linear \n",
      "[CV]  classifier__C=0.01, classifier__class_weight=balanced, classifier__kernel=linear, score=0.13664596273291926, total=   3.8s\n",
      "[Parallel(n_jobs=1)]: Done   6 out of   6 | elapsed:   17.1s remaining:    0.0s\n",
      "[CV] classifier__C=0.01, classifier__class_weight={0: 0.3, 1: 0.7}, classifier__kernel=linear \n",
      "[CV]  classifier__C=0.01, classifier__class_weight={0: 0.3, 1: 0.7}, classifier__kernel=linear, score=0.8311688311688312, total=   0.3s\n",
      "[Parallel(n_jobs=1)]: Done   7 out of   7 | elapsed:   17.4s remaining:    0.0s\n",
      "[CV] classifier__C=0.01, classifier__class_weight={0: 0.3, 1: 0.7}, classifier__kernel=linear \n",
      "[CV]  classifier__C=0.01, classifier__class_weight={0: 0.3, 1: 0.7}, classifier__kernel=linear, score=0.8461538461538461, total=   0.3s\n",
      "[Parallel(n_jobs=1)]: Done   8 out of   8 | elapsed:   17.7s remaining:    0.0s\n",
      "[CV] classifier__C=0.01, classifier__class_weight={0: 0.2, 1: 0.8}, classifier__kernel=linear \n",
      "[CV]  classifier__C=0.01, classifier__class_weight={0: 0.2, 1: 0.8}, classifier__kernel=linear, score=0.8421052631578948, total=   0.3s\n",
      "[Parallel(n_jobs=1)]: Done   9 out of   9 | elapsed:   18.2s remaining:    0.0s\n",
      "[CV] classifier__C=0.01, classifier__class_weight={0: 0.2, 1: 0.8}, classifier__kernel=linear \n",
      "[CV]  classifier__C=0.01, classifier__class_weight={0: 0.2, 1: 0.8}, classifier__kernel=linear, score=0.8461538461538461, total=   0.3s\n",
      "[Parallel(n_jobs=1)]: Done  10 out of  10 | elapsed:   18.5s remaining:    0.0s\n",
      "[CV] classifier__C=0.5, classifier__class_weight={0: 0.1, 1: 0.9}, classifier__kernel=linear \n",
      "[CV]  classifier__C=0.5, classifier__class_weight={0: 0.1, 1: 0.9}, classifier__kernel=linear, score=0.8266666666666667, total=   0.6s\n",
      "[Parallel(n_jobs=1)]: Done  11 out of  11 | elapsed:   19.2s remaining:    0.0s\n",
      "[CV] classifier__C=0.5, classifier__class_weight={0: 0.1, 1: 0.9}, classifier__kernel=linear \n",
      "[CV]  classifier__C=0.5, classifier__class_weight={0: 0.1, 1: 0.9}, classifier__kernel=linear, score=0.8095238095238095, total=   0.4s\n",
      "[Parallel(n_jobs=1)]: Done  12 out of  12 | elapsed:   19.7s remaining:    0.0s\n",
      "[CV] classifier__C=0.5, classifier__class_weight={0: 0.01, 1: 0.99}, classifier__kernel=linear \n",
      "[CV]  classifier__C=0.5, classifier__class_weight={0: 0.01, 1: 0.99}, classifier__kernel=linear, score=0.5739130434782609, total=   1.3s\n",
      "[Parallel(n_jobs=1)]: Done  13 out of  13 | elapsed:   21.5s remaining:    0.0s\n",
      "[CV] classifier__C=0.5, classifier__class_weight={0: 0.01, 1: 0.99}, classifier__kernel=linear \n",
      "[CV]  classifier__C=0.5, classifier__class_weight={0: 0.01, 1: 0.99}, classifier__kernel=linear, score=0.66, total=   1.3s\n",
      "[Parallel(n_jobs=1)]: Done  14 out of  14 | elapsed:   23.3s remaining:    0.0s\n",
      "[CV] classifier__C=0.5, classifier__class_weight=balanced, classifier__kernel=linear \n",
      "[CV]  classifier__C=0.5, classifier__class_weight=balanced, classifier__kernel=linear, score=0.24896265560165973, total=   1.5s\n",
      "[Parallel(n_jobs=1)]: Done  15 out of  15 | elapsed:   25.1s remaining:    0.0s\n",
      "[CV] classifier__C=0.5, classifier__class_weight=balanced, classifier__kernel=linear \n",
      "[CV]  classifier__C=0.5, classifier__class_weight=balanced, classifier__kernel=linear, score=0.20625000000000002, total=   1.9s\n",
      "[Parallel(n_jobs=1)]: Done  16 out of  16 | elapsed:   27.5s remaining:    0.0s\n",
      "[CV] classifier__C=0.5, classifier__class_weight={0: 0.3, 1: 0.7}, classifier__kernel=linear \n",
      "[CV]  classifier__C=0.5, classifier__class_weight={0: 0.3, 1: 0.7}, classifier__kernel=linear, score=0.8266666666666667, total=   0.5s\n",
      "[Parallel(n_jobs=1)]: Done  17 out of  17 | elapsed:   28.1s remaining:    0.0s\n",
      "[CV] classifier__C=0.5, classifier__class_weight={0: 0.3, 1: 0.7}, classifier__kernel=linear \n",
      "[CV]  classifier__C=0.5, classifier__class_weight={0: 0.3, 1: 0.7}, classifier__kernel=linear, score=0.8461538461538461, total=   0.5s\n",
      "[Parallel(n_jobs=1)]: Done  18 out of  18 | elapsed:   28.7s remaining:    0.0s\n",
      "[CV] classifier__C=0.5, classifier__class_weight={0: 0.2, 1: 0.8}, classifier__kernel=linear \n",
      "[CV]  classifier__C=0.5, classifier__class_weight={0: 0.2, 1: 0.8}, classifier__kernel=linear, score=0.8266666666666667, total=   0.5s\n",
      "[Parallel(n_jobs=1)]: Done  19 out of  19 | elapsed:   29.2s remaining:    0.0s\n",
      "[CV] classifier__C=0.5, classifier__class_weight={0: 0.2, 1: 0.8}, classifier__kernel=linear \n",
      "[CV]  classifier__C=0.5, classifier__class_weight={0: 0.2, 1: 0.8}, classifier__kernel=linear, score=0.8095238095238095, total=   0.4s\n",
      "[Parallel(n_jobs=1)]: Done  20 out of  20 | elapsed:   29.7s remaining:    0.0s\n",
      "[CV] classifier__C=0.7, classifier__class_weight={0: 0.1, 1: 0.9}, classifier__kernel=linear \n",
      "[CV]  classifier__C=0.7, classifier__class_weight={0: 0.1, 1: 0.9}, classifier__kernel=linear, score=0.8266666666666667, total=   0.6s\n",
      "[Parallel(n_jobs=1)]: Done  21 out of  21 | elapsed:   30.4s remaining:    0.0s\n",
      "[CV] classifier__C=0.7, classifier__class_weight={0: 0.1, 1: 0.9}, classifier__kernel=linear \n",
      "[CV]  classifier__C=0.7, classifier__class_weight={0: 0.1, 1: 0.9}, classifier__kernel=linear, score=0.8095238095238095, total=   0.5s\n",
      "[Parallel(n_jobs=1)]: Done  22 out of  22 | elapsed:   31.0s remaining:    0.0s\n",
      "[CV] classifier__C=0.7, classifier__class_weight={0: 0.01, 1: 0.99}, classifier__kernel=linear \n",
      "[CV]  classifier__C=0.7, classifier__class_weight={0: 0.01, 1: 0.99}, classifier__kernel=linear, score=0.515625, total=   1.3s\n",
      "[Parallel(n_jobs=1)]: Done  23 out of  23 | elapsed:   32.8s remaining:    0.0s\n",
      "[CV] classifier__C=0.7, classifier__class_weight={0: 0.01, 1: 0.99}, classifier__kernel=linear \n",
      "[CV]  classifier__C=0.7, classifier__class_weight={0: 0.01, 1: 0.99}, classifier__kernel=linear, score=0.6407766990291262, total=   1.3s\n",
      "[Parallel(n_jobs=1)]: Done  24 out of  24 | elapsed:   34.6s remaining:    0.0s\n",
      "[CV] classifier__C=0.7, classifier__class_weight=balanced, classifier__kernel=linear \n",
      "[CV]  classifier__C=0.7, classifier__class_weight=balanced, classifier__kernel=linear, score=0.24999999999999997, total=   1.5s\n",
      "[Parallel(n_jobs=1)]: Done  25 out of  25 | elapsed:   36.4s remaining:    0.0s\n",
      "[CV] classifier__C=0.7, classifier__class_weight=balanced, classifier__kernel=linear \n",
      "[CV]  classifier__C=0.7, classifier__class_weight=balanced, classifier__kernel=linear, score=0.20512820512820512, total=   2.0s\n",
      "[Parallel(n_jobs=1)]: Done  26 out of  26 | elapsed:   38.9s remaining:    0.0s\n",
      "[CV] classifier__C=0.7, classifier__class_weight={0: 0.3, 1: 0.7}, classifier__kernel=linear \n"
     ]
    },
    {
     "name": "stdout",
     "output_type": "stream",
     "text": [
      "[CV]  classifier__C=0.7, classifier__class_weight={0: 0.3, 1: 0.7}, classifier__kernel=linear, score=0.8266666666666667, total=   0.5s\n",
      "[Parallel(n_jobs=1)]: Done  27 out of  27 | elapsed:   39.5s remaining:    0.0s\n",
      "[CV] classifier__C=0.7, classifier__class_weight={0: 0.3, 1: 0.7}, classifier__kernel=linear \n",
      "[CV]  classifier__C=0.7, classifier__class_weight={0: 0.3, 1: 0.7}, classifier__kernel=linear, score=0.8461538461538461, total=   0.4s\n",
      "[Parallel(n_jobs=1)]: Done  28 out of  28 | elapsed:   40.0s remaining:    0.0s\n",
      "[CV] classifier__C=0.7, classifier__class_weight={0: 0.2, 1: 0.8}, classifier__kernel=linear \n",
      "[CV]  classifier__C=0.7, classifier__class_weight={0: 0.2, 1: 0.8}, classifier__kernel=linear, score=0.8266666666666667, total=   0.6s\n",
      "[Parallel(n_jobs=1)]: Done  29 out of  29 | elapsed:   40.6s remaining:    0.0s\n",
      "[CV] classifier__C=0.7, classifier__class_weight={0: 0.2, 1: 0.8}, classifier__kernel=linear \n",
      "[CV]  classifier__C=0.7, classifier__class_weight={0: 0.2, 1: 0.8}, classifier__kernel=linear, score=0.8192771084337349, total=   0.4s\n",
      "[Parallel(n_jobs=1)]: Done  30 out of  30 | elapsed:   41.1s remaining:    0.0s\n",
      "[Parallel(n_jobs=1)]: Done  30 out of  30 | elapsed:   41.1s finished\n"
     ]
    }
   ],
   "source": [
    "from sklearn.metrics import precision_score, recall_score, f1_score\n",
    "from sklearn.svm import SVC\n",
    "param_range = [0.01,0.5,0.7]\n",
    "\n",
    "pipe_svc = Pipeline([('classifier', SVC(random_state = 5))])\n",
    "param_grid = [{'classifier__C': param_range\n",
    "               ,\n",
    "               'classifier__class_weight':[{0:.1, 1:.9},{0:.01, 1:.99},'balanced',{0:.3, 1:.7},{0:.2, 1:.8}]\n",
    "              ,  \n",
    "               'classifier__kernel': ['linear']}]\n",
    "\n",
    "gs = GridSearchCV(estimator=pipe_svc, \n",
    "                  param_grid=param_grid, \n",
    "                  scoring='f1', \n",
    "                  cv=2,verbose=100,\n",
    "                  n_jobs=1)\n",
    "\n",
    "X_gridopt, X_train1, y_gridopt, y_train1 = train_test_split(x, y, test_size=0.85, random_state=5)\n",
    "gs = gs.fit(X_gridopt, y_gridopt)"
   ]
  },
  {
   "cell_type": "code",
   "execution_count": 8,
   "metadata": {},
   "outputs": [
    {
     "name": "stdout",
     "output_type": "stream",
     "text": [
      "{'classifier__C': 0.01, 'classifier__class_weight': {0: 0.1, 1: 0.9}, 'classifier__kernel': 'linear'}\n",
      "(199364, 30)\n"
     ]
    }
   ],
   "source": [
    "print(gs.best_params_)\n",
    "gridsearch_best_estimator=gs.best_estimator_\n",
    "print(X_train.shape)"
   ]
  },
  {
   "cell_type": "code",
   "execution_count": 9,
   "metadata": {},
   "outputs": [],
   "source": [
    "bla=gridsearch_best_estimator.fit(X_train,y_train) "
   ]
  },
  {
   "cell_type": "code",
   "execution_count": 20,
   "metadata": {},
   "outputs": [
    {
     "name": "stdout",
     "output_type": "stream",
     "text": [
      "[[85264    24]\n",
      " [   23   132]]\n"
     ]
    },
    {
     "data": {
      "image/png": "[encoded data removed]",
      "text/plain": [
       "<Figure size 324x324 with 1 Axes>"
      ]
     },
     "metadata": {
      "needs_background": "light"
     },
     "output_type": "display_data"
    },
    {
     "name": "stdout",
     "output_type": "stream",
     "text": [
      "Precision: 0.846\n",
      "Recall: 0.852\n",
      "F1: 0.849\n"
     ]
    }
   ],
   "source": [
    "y_pred=bla.predict(X_test)\n",
    "confmat=confusion_matrix(y_true=y_test,y_pred=y_pred)\n",
    "print(confmat)\n",
    "draw_ConfusionMatrix(confmat,\"blabla\")\n",
    "print('Precision: %.3f' % precision_score(y_true=y_test, y_pred=y_pred))\n",
    "print('Recall: %.3f' % recall_score(y_true=y_test, y_pred=y_pred))\n",
    "print('F1: %.3f' % f1_score(y_true=y_test, y_pred=y_pred))"
   ]
  },
  {
   "cell_type": "markdown",
   "metadata": {},
   "source": [
    "# svm rus "
   ]
  },
  {
   "cell_type": "code",
   "execution_count": 19,
   "metadata": {
    "scrolled": true
   },
   "outputs": [
    {
     "name": "stdout",
     "output_type": "stream",
     "text": [
      "{'classifier__C': 0.001, 'classifier__kernel': 'linear', 'rus__sampling_strategy': 0.005}\n",
      "[[85264    24]\n",
      " [   23   132]]\n"
     ]
    },
    {
     "data": {
      "image/png": "[encoded data removed]",
      "text/plain": [
       "<Figure size 324x324 with 1 Axes>"
      ]
     },
     "metadata": {
      "needs_background": "light"
     },
     "output_type": "display_data"
    },
    {
     "name": "stdout",
     "output_type": "stream",
     "text": [
      "Precision: 0.846\n",
      "Recall: 0.852\n",
      "F1: 0.849\n"
     ]
    }
   ],
   "source": [
    "from imblearn.under_sampling import RandomUnderSampler\n",
    "from sklearn.svm import SVC\n",
    "\n",
    "pipe_svc = Pipeline([('rus', RandomUnderSampler(random_state=42)),\n",
    "                        ('classifier', SVC(random_state = 5))\n",
    "                       ])\n",
    "from sklearn.metrics import precision_score, recall_score, f1_score\n",
    "param_range = [0.0005,0.001,0.0015]\n",
    "smt_param_range = [0.005,0.01,0.015]\n",
    "param_grid = [{'classifier__C': param_range\n",
    "               ,\n",
    "               \n",
    "               'rus__sampling_strategy':smt_param_range, \n",
    "               'classifier__kernel': ['linear']}]\n",
    "\n",
    "gs = GridSearchCV(estimator=pipe_svc, \n",
    "                  param_grid=param_grid, \n",
    "                  scoring='f1', \n",
    "                  cv=2,\n",
    "                  n_jobs=1)\n",
    "\n",
    "gs = gs.fit(X_train, y_train)\n",
    "print(gs.best_params_)\n",
    "gridsearch_best_estimator=gs.best_estimator_\n",
    "bla=gridsearch_best_estimator.fit(X_train,y_train)\n",
    "y_pred=bla.predict(X_test)\n",
    "confmat=confusion_matrix(y_true=y_test,y_pred=y_pred)\n",
    "print(confmat)\n",
    "draw_ConfusionMatrix(confmat,\"Svm rus\")\n",
    "print('Precision: %.3f' % precision_score(y_true=y_test, y_pred=y_pred))\n",
    "print('Recall: %.3f' % recall_score(y_true=y_test, y_pred=y_pred))\n",
    "print('F1: %.3f' % f1_score(y_true=y_test, y_pred=y_pred))"
   ]
  },
  {
   "cell_type": "markdown",
   "metadata": {},
   "source": [
    "# Logreg rus"
   ]
  },
  {
   "cell_type": "code",
   "execution_count": 41,
   "metadata": {},
   "outputs": [
    {
     "name": "stderr",
     "output_type": "stream",
     "text": [
      "/home/matej/anaconda3/lib/python3.7/site-packages/sklearn/linear_model/logistic.py:758: ConvergenceWarning: lbfgs failed to converge. Increase the number of iterations.\n",
      "  \"of iterations.\", ConvergenceWarning)\n",
      "/home/matej/anaconda3/lib/python3.7/site-packages/sklearn/linear_model/logistic.py:758: ConvergenceWarning: lbfgs failed to converge. Increase the number of iterations.\n",
      "  \"of iterations.\", ConvergenceWarning)\n"
     ]
    },
    {
     "name": "stdout",
     "output_type": "stream",
     "text": [
      "{'classifier__C': 0.001, 'classifier__gamma': 0.0005, 'classifier__kernel': 'linear', 'rus__sampling_strategy': 0.005}\n",
      "Pipeline(memory=None,\n",
      "     steps=[('rus', RandomUnderSampler(random_state=42, ratio=None, replacement=False,\n",
      "          return_indices=False, sampling_strategy=0.01)), ('classifier', LogisticRegression(C=0.05, class_weight=None, dual=False, fit_intercept=True,\n",
      "          intercept_scaling=1, max_iter=100, multi_class='warn',\n",
      "          n_jobs=None, penalty='l2', random_state=5, solver='lbfgs',\n",
      "          tol=0.0001, verbose=0, warm_start=False))])\n",
      "[[85253    35]\n",
      " [   32   123]]\n"
     ]
    },
    {
     "data": {
      "image/png": "[encoded data removed]",
      "text/plain": [
       "<Figure size 324x324 with 1 Axes>"
      ]
     },
     "metadata": {
      "needs_background": "light"
     },
     "output_type": "display_data"
    },
    {
     "name": "stdout",
     "output_type": "stream",
     "text": [
      "Acc: 0.999\n",
      "Precision: 0.778\n",
      "Recall: 0.794\n",
      "F1: 0.786\n"
     ]
    }
   ],
   "source": [
    "from sklearn.linear_model import LogisticRegression as LR\n",
    "from imblearn.under_sampling import RandomUnderSampler\n",
    "\n",
    "lr_pipeline = Pipeline([('rus', RandomUnderSampler(random_state=42)),\n",
    "                        ('classifier', LR(random_state = 5,solver='lbfgs'))\n",
    "                       ])\n",
    "\n",
    "\n",
    "from sklearn.model_selection import GridSearchCV #new with version 0.18\n",
    "from sklearn.model_selection import cross_validate\n",
    "lr_param_range = [0.0005,0.001,0.05,0.1,0.3,0.5,1,3,5]\n",
    "lr_param_range1 = [0.005,0.01,0.015,0.09,0.1,0.2]\n",
    "lr_param_grid = [{'classifier__C':lr_param_range,'rus__sampling_strategy':lr_param_range1},\n",
    "                 \n",
    "                ]\n",
    "gridsearch_lr1 = GridSearchCV(estimator = lr_pipeline,\n",
    "                          param_grid = lr_param_grid,\n",
    "                          scoring='f1',\n",
    "                          n_jobs=1  ,\n",
    "                          cv = 2)\n",
    "\n",
    "gridsearch_lr1.fit(X_train,y_train)\n",
    "print(gs.best_params_)\n",
    "gridsearch_best_estimator=gridsearch_lr1.best_estimator_\n",
    "\n",
    "from sklearn.metrics import precision_score, recall_score, f1_score\n",
    "print(gridsearch_best_estimator)\n",
    "bla=gridsearch_best_estimator.fit(X_train,y_train)\n",
    "score = bla.score(X_test, y_test)\n",
    "y_pred=bla.predict(X_test)\n",
    "confmat=confusion_matrix(y_true=y_test,y_pred=y_pred)\n",
    "print(confmat)\n",
    "draw_ConfusionMatrix(confmat,\"blabla\")\n",
    "print('Acc: %.3f' % score)\n",
    "print('Precision: %.3f' % precision_score(y_true=y_test, y_pred=y_pred))\n",
    "print('Recall: %.3f' % recall_score(y_true=y_test, y_pred=y_pred))\n",
    "print('F1: %.3f' % f1_score(y_true=y_test, y_pred=y_pred))\n"
   ]
  },
  {
   "cell_type": "markdown",
   "metadata": {},
   "source": [
    "# log class_weight=blanced"
   ]
  },
  {
   "cell_type": "code",
   "execution_count": 48,
   "metadata": {
    "scrolled": true
   },
   "outputs": [
    {
     "name": "stdout",
     "output_type": "stream",
     "text": [
      "Fitting 2 folds for each of 35 candidates, totalling 70 fits\n",
      "[Parallel(n_jobs=1)]: Using backend SequentialBackend with 1 concurrent workers.\n",
      "[CV] classifier__C=0.05, classifier__class_weight={0: 0.1, 1: 0.9} ...\n"
     ]
    },
    {
     "name": "stderr",
     "output_type": "stream",
     "text": [
      "/home/matej/anaconda3/lib/python3.7/site-packages/sklearn/linear_model/logistic.py:433: FutureWarning: Default solver will be changed to 'lbfgs' in 0.22. Specify a solver to silence this warning.\n",
      "  FutureWarning)\n"
     ]
    },
    {
     "name": "stdout",
     "output_type": "stream",
     "text": [
      "[CV]  classifier__C=0.05, classifier__class_weight={0: 0.1, 1: 0.9}, score=0.7833827893175074, total=  20.0s\n",
      "[Parallel(n_jobs=1)]: Done   1 out of   1 | elapsed:   20.2s remaining:    0.0s\n",
      "[CV] classifier__C=0.05, classifier__class_weight={0: 0.1, 1: 0.9} ...\n"
     ]
    },
    {
     "name": "stderr",
     "output_type": "stream",
     "text": [
      "/home/matej/anaconda3/lib/python3.7/site-packages/sklearn/linear_model/logistic.py:433: FutureWarning: Default solver will be changed to 'lbfgs' in 0.22. Specify a solver to silence this warning.\n",
      "  FutureWarning)\n"
     ]
    },
    {
     "name": "stdout",
     "output_type": "stream",
     "text": [
      "[CV]  classifier__C=0.05, classifier__class_weight={0: 0.1, 1: 0.9}, score=0.7846607669616519, total=   0.9s\n",
      "[Parallel(n_jobs=1)]: Done   2 out of   2 | elapsed:   21.2s remaining:    0.0s\n",
      "[CV] classifier__C=0.05, classifier__class_weight={0: 0.01, 1: 0.99} .\n"
     ]
    },
    {
     "name": "stderr",
     "output_type": "stream",
     "text": [
      "/home/matej/anaconda3/lib/python3.7/site-packages/sklearn/linear_model/logistic.py:433: FutureWarning: Default solver will be changed to 'lbfgs' in 0.22. Specify a solver to silence this warning.\n",
      "  FutureWarning)\n"
     ]
    },
    {
     "name": "stdout",
     "output_type": "stream",
     "text": [
      "[CV]  classifier__C=0.05, classifier__class_weight={0: 0.01, 1: 0.99}, score=0.5622489959839357, total=   0.9s\n",
      "[Parallel(n_jobs=1)]: Done   3 out of   3 | elapsed:   22.1s remaining:    0.0s\n",
      "[CV] classifier__C=0.05, classifier__class_weight={0: 0.01, 1: 0.99} .\n"
     ]
    },
    {
     "name": "stderr",
     "output_type": "stream",
     "text": [
      "/home/matej/anaconda3/lib/python3.7/site-packages/sklearn/linear_model/logistic.py:433: FutureWarning: Default solver will be changed to 'lbfgs' in 0.22. Specify a solver to silence this warning.\n",
      "  FutureWarning)\n"
     ]
    },
    {
     "name": "stdout",
     "output_type": "stream",
     "text": [
      "[CV]  classifier__C=0.05, classifier__class_weight={0: 0.01, 1: 0.99}, score=0.5222222222222223, total=   0.8s\n",
      "[Parallel(n_jobs=1)]: Done   4 out of   4 | elapsed:   23.0s remaining:    0.0s\n",
      "[CV] classifier__C=0.05, classifier__class_weight=balanced ...........\n"
     ]
    },
    {
     "name": "stderr",
     "output_type": "stream",
     "text": [
      "/home/matej/anaconda3/lib/python3.7/site-packages/sklearn/linear_model/logistic.py:433: FutureWarning: Default solver will be changed to 'lbfgs' in 0.22. Specify a solver to silence this warning.\n",
      "  FutureWarning)\n"
     ]
    },
    {
     "name": "stdout",
     "output_type": "stream",
     "text": [
      "[CV]  classifier__C=0.05, classifier__class_weight=balanced, score=0.11127933383800151, total=   2.6s\n",
      "[Parallel(n_jobs=1)]: Done   5 out of   5 | elapsed:   25.7s remaining:    0.0s\n",
      "[CV] classifier__C=0.05, classifier__class_weight=balanced ...........\n"
     ]
    },
    {
     "name": "stderr",
     "output_type": "stream",
     "text": [
      "/home/matej/anaconda3/lib/python3.7/site-packages/sklearn/linear_model/logistic.py:433: FutureWarning: Default solver will be changed to 'lbfgs' in 0.22. Specify a solver to silence this warning.\n",
      "  FutureWarning)\n"
     ]
    },
    {
     "name": "stdout",
     "output_type": "stream",
     "text": [
      "[CV]  classifier__C=0.05, classifier__class_weight=balanced, score=0.10688591983556012, total=   2.0s\n",
      "[Parallel(n_jobs=1)]: Done   6 out of   6 | elapsed:   27.8s remaining:    0.0s\n",
      "[CV] classifier__C=0.05, classifier__class_weight={0: 0.3, 1: 0.7} ...\n"
     ]
    },
    {
     "name": "stderr",
     "output_type": "stream",
     "text": [
      "/home/matej/anaconda3/lib/python3.7/site-packages/sklearn/linear_model/logistic.py:433: FutureWarning: Default solver will be changed to 'lbfgs' in 0.22. Specify a solver to silence this warning.\n",
      "  FutureWarning)\n"
     ]
    },
    {
     "name": "stdout",
     "output_type": "stream",
     "text": [
      "[CV]  classifier__C=0.05, classifier__class_weight={0: 0.3, 1: 0.7}, score=0.7583892617449665, total=   0.9s\n",
      "[Parallel(n_jobs=1)]: Done   7 out of   7 | elapsed:   28.7s remaining:    0.0s\n",
      "[CV] classifier__C=0.05, classifier__class_weight={0: 0.3, 1: 0.7} ...\n"
     ]
    },
    {
     "name": "stderr",
     "output_type": "stream",
     "text": [
      "/home/matej/anaconda3/lib/python3.7/site-packages/sklearn/linear_model/logistic.py:433: FutureWarning: Default solver will be changed to 'lbfgs' in 0.22. Specify a solver to silence this warning.\n",
      "  FutureWarning)\n"
     ]
    },
    {
     "name": "stdout",
     "output_type": "stream",
     "text": [
      "[CV]  classifier__C=0.05, classifier__class_weight={0: 0.3, 1: 0.7}, score=0.7583892617449665, total=   1.0s\n",
      "[Parallel(n_jobs=1)]: Done   8 out of   8 | elapsed:   29.8s remaining:    0.0s\n",
      "[CV] classifier__C=0.05, classifier__class_weight={0: 0.2, 1: 0.99} ..\n"
     ]
    },
    {
     "name": "stderr",
     "output_type": "stream",
     "text": [
      "/home/matej/anaconda3/lib/python3.7/site-packages/sklearn/linear_model/logistic.py:433: FutureWarning: Default solver will be changed to 'lbfgs' in 0.22. Specify a solver to silence this warning.\n",
      "  FutureWarning)\n"
     ]
    },
    {
     "name": "stdout",
     "output_type": "stream",
     "text": [
      "[CV]  classifier__C=0.05, classifier__class_weight={0: 0.2, 1: 0.99}, score=0.8012422360248448, total=   1.0s\n",
      "[Parallel(n_jobs=1)]: Done   9 out of   9 | elapsed:   30.9s remaining:    0.0s\n",
      "[CV] classifier__C=0.05, classifier__class_weight={0: 0.2, 1: 0.99} ..\n"
     ]
    },
    {
     "name": "stderr",
     "output_type": "stream",
     "text": [
      "/home/matej/anaconda3/lib/python3.7/site-packages/sklearn/linear_model/logistic.py:433: FutureWarning: Default solver will be changed to 'lbfgs' in 0.22. Specify a solver to silence this warning.\n",
      "  FutureWarning)\n"
     ]
    },
    {
     "name": "stdout",
     "output_type": "stream",
     "text": [
      "[CV]  classifier__C=0.05, classifier__class_weight={0: 0.2, 1: 0.99}, score=0.7854984894259818, total=   0.9s\n",
      "[Parallel(n_jobs=1)]: Done  10 out of  10 | elapsed:   31.9s remaining:    0.0s\n",
      "[CV] classifier__C=0.1, classifier__class_weight={0: 0.1, 1: 0.9} ....\n"
     ]
    },
    {
     "name": "stderr",
     "output_type": "stream",
     "text": [
      "/home/matej/anaconda3/lib/python3.7/site-packages/sklearn/linear_model/logistic.py:433: FutureWarning: Default solver will be changed to 'lbfgs' in 0.22. Specify a solver to silence this warning.\n",
      "  FutureWarning)\n"
     ]
    },
    {
     "name": "stdout",
     "output_type": "stream",
     "text": [
      "[CV]  classifier__C=0.1, classifier__class_weight={0: 0.1, 1: 0.9}, score=0.7869822485207101, total=   1.1s\n",
      "[Parallel(n_jobs=1)]: Done  11 out of  11 | elapsed:   33.0s remaining:    0.0s\n",
      "[CV] classifier__C=0.1, classifier__class_weight={0: 0.1, 1: 0.9} ....\n"
     ]
    },
    {
     "name": "stderr",
     "output_type": "stream",
     "text": [
      "/home/matej/anaconda3/lib/python3.7/site-packages/sklearn/linear_model/logistic.py:433: FutureWarning: Default solver will be changed to 'lbfgs' in 0.22. Specify a solver to silence this warning.\n",
      "  FutureWarning)\n"
     ]
    },
    {
     "name": "stdout",
     "output_type": "stream",
     "text": [
      "[CV]  classifier__C=0.1, classifier__class_weight={0: 0.1, 1: 0.9}, score=0.788235294117647, total=   1.3s\n",
      "[Parallel(n_jobs=1)]: Done  12 out of  12 | elapsed:   34.4s remaining:    0.0s\n",
      "[CV] classifier__C=0.1, classifier__class_weight={0: 0.01, 1: 0.99} ..\n"
     ]
    },
    {
     "name": "stderr",
     "output_type": "stream",
     "text": [
      "/home/matej/anaconda3/lib/python3.7/site-packages/sklearn/linear_model/logistic.py:433: FutureWarning: Default solver will be changed to 'lbfgs' in 0.22. Specify a solver to silence this warning.\n",
      "  FutureWarning)\n"
     ]
    },
    {
     "name": "stdout",
     "output_type": "stream",
     "text": [
      "[CV]  classifier__C=0.1, classifier__class_weight={0: 0.01, 1: 0.99}, score=0.5081081081081081, total=   1.2s\n",
      "[Parallel(n_jobs=1)]: Done  13 out of  13 | elapsed:   35.6s remaining:    0.0s\n",
      "[CV] classifier__C=0.1, classifier__class_weight={0: 0.01, 1: 0.99} ..\n"
     ]
    },
    {
     "name": "stderr",
     "output_type": "stream",
     "text": [
      "/home/matej/anaconda3/lib/python3.7/site-packages/sklearn/linear_model/logistic.py:433: FutureWarning: Default solver will be changed to 'lbfgs' in 0.22. Specify a solver to silence this warning.\n",
      "  FutureWarning)\n"
     ]
    },
    {
     "name": "stdout",
     "output_type": "stream",
     "text": [
      "[CV]  classifier__C=0.1, classifier__class_weight={0: 0.01, 1: 0.99}, score=0.45283018867924535, total=   1.3s\n",
      "[Parallel(n_jobs=1)]: Done  14 out of  14 | elapsed:   37.0s remaining:    0.0s\n",
      "[CV] classifier__C=0.1, classifier__class_weight=balanced ............\n"
     ]
    },
    {
     "name": "stderr",
     "output_type": "stream",
     "text": [
      "/home/matej/anaconda3/lib/python3.7/site-packages/sklearn/linear_model/logistic.py:433: FutureWarning: Default solver will be changed to 'lbfgs' in 0.22. Specify a solver to silence this warning.\n",
      "  FutureWarning)\n"
     ]
    },
    {
     "name": "stdout",
     "output_type": "stream",
     "text": [
      "[CV]  classifier__C=0.1, classifier__class_weight=balanced, score=0.1112372304199773, total=   3.3s\n",
      "[Parallel(n_jobs=1)]: Done  15 out of  15 | elapsed:   40.4s remaining:    0.0s\n",
      "[CV] classifier__C=0.1, classifier__class_weight=balanced ............\n"
     ]
    },
    {
     "name": "stderr",
     "output_type": "stream",
     "text": [
      "/home/matej/anaconda3/lib/python3.7/site-packages/sklearn/linear_model/logistic.py:433: FutureWarning: Default solver will be changed to 'lbfgs' in 0.22. Specify a solver to silence this warning.\n",
      "  FutureWarning)\n"
     ]
    },
    {
     "name": "stdout",
     "output_type": "stream",
     "text": [
      "[CV]  classifier__C=0.1, classifier__class_weight=balanced, score=0.10637572451414933, total=   3.1s\n",
      "[Parallel(n_jobs=1)]: Done  16 out of  16 | elapsed:   43.6s remaining:    0.0s\n",
      "[CV] classifier__C=0.1, classifier__class_weight={0: 0.3, 1: 0.7} ....\n"
     ]
    },
    {
     "name": "stderr",
     "output_type": "stream",
     "text": [
      "/home/matej/anaconda3/lib/python3.7/site-packages/sklearn/linear_model/logistic.py:433: FutureWarning: Default solver will be changed to 'lbfgs' in 0.22. Specify a solver to silence this warning.\n",
      "  FutureWarning)\n"
     ]
    },
    {
     "name": "stdout",
     "output_type": "stream",
     "text": [
      "[CV]  classifier__C=0.1, classifier__class_weight={0: 0.3, 1: 0.7}, score=0.7533333333333332, total=   1.1s\n",
      "[Parallel(n_jobs=1)]: Done  17 out of  17 | elapsed:   44.7s remaining:    0.0s\n",
      "[CV] classifier__C=0.1, classifier__class_weight={0: 0.3, 1: 0.7} ....\n"
     ]
    },
    {
     "name": "stderr",
     "output_type": "stream",
     "text": [
      "/home/matej/anaconda3/lib/python3.7/site-packages/sklearn/linear_model/logistic.py:433: FutureWarning: Default solver will be changed to 'lbfgs' in 0.22. Specify a solver to silence this warning.\n",
      "  FutureWarning)\n"
     ]
    },
    {
     "name": "stdout",
     "output_type": "stream",
     "text": [
      "[CV]  classifier__C=0.1, classifier__class_weight={0: 0.3, 1: 0.7}, score=0.76158940397351, total=   1.1s\n",
      "[Parallel(n_jobs=1)]: Done  18 out of  18 | elapsed:   45.9s remaining:    0.0s\n",
      "[CV] classifier__C=0.1, classifier__class_weight={0: 0.2, 1: 0.99} ...\n"
     ]
    },
    {
     "name": "stderr",
     "output_type": "stream",
     "text": [
      "/home/matej/anaconda3/lib/python3.7/site-packages/sklearn/linear_model/logistic.py:433: FutureWarning: Default solver will be changed to 'lbfgs' in 0.22. Specify a solver to silence this warning.\n",
      "  FutureWarning)\n"
     ]
    },
    {
     "name": "stdout",
     "output_type": "stream",
     "text": [
      "[CV]  classifier__C=0.1, classifier__class_weight={0: 0.2, 1: 0.99}, score=0.787878787878788, total=   1.0s\n",
      "[Parallel(n_jobs=1)]: Done  19 out of  19 | elapsed:   47.0s remaining:    0.0s\n",
      "[CV] classifier__C=0.1, classifier__class_weight={0: 0.2, 1: 0.99} ...\n"
     ]
    },
    {
     "name": "stderr",
     "output_type": "stream",
     "text": [
      "/home/matej/anaconda3/lib/python3.7/site-packages/sklearn/linear_model/logistic.py:433: FutureWarning: Default solver will be changed to 'lbfgs' in 0.22. Specify a solver to silence this warning.\n",
      "  FutureWarning)\n"
     ]
    },
    {
     "name": "stdout",
     "output_type": "stream",
     "text": [
      "[CV]  classifier__C=0.1, classifier__class_weight={0: 0.2, 1: 0.99}, score=0.7784431137724551, total=   1.1s\n",
      "[Parallel(n_jobs=1)]: Done  20 out of  20 | elapsed:   48.2s remaining:    0.0s\n",
      "[CV] classifier__C=0.15, classifier__class_weight={0: 0.1, 1: 0.9} ...\n"
     ]
    },
    {
     "name": "stderr",
     "output_type": "stream",
     "text": [
      "/home/matej/anaconda3/lib/python3.7/site-packages/sklearn/linear_model/logistic.py:433: FutureWarning: Default solver will be changed to 'lbfgs' in 0.22. Specify a solver to silence this warning.\n",
      "  FutureWarning)\n"
     ]
    },
    {
     "name": "stdout",
     "output_type": "stream",
     "text": [
      "[CV]  classifier__C=0.15, classifier__class_weight={0: 0.1, 1: 0.9}, score=0.7833827893175074, total=   1.0s\n",
      "[Parallel(n_jobs=1)]: Done  21 out of  21 | elapsed:   49.3s remaining:    0.0s\n",
      "[CV] classifier__C=0.15, classifier__class_weight={0: 0.1, 1: 0.9} ...\n"
     ]
    },
    {
     "name": "stderr",
     "output_type": "stream",
     "text": [
      "/home/matej/anaconda3/lib/python3.7/site-packages/sklearn/linear_model/logistic.py:433: FutureWarning: Default solver will be changed to 'lbfgs' in 0.22. Specify a solver to silence this warning.\n",
      "  FutureWarning)\n"
     ]
    },
    {
     "name": "stdout",
     "output_type": "stream",
     "text": [
      "[CV]  classifier__C=0.15, classifier__class_weight={0: 0.1, 1: 0.9}, score=0.78134110787172, total=   1.1s\n",
      "[Parallel(n_jobs=1)]: Done  22 out of  22 | elapsed:   50.4s remaining:    0.0s\n",
      "[CV] classifier__C=0.15, classifier__class_weight={0: 0.01, 1: 0.99} .\n"
     ]
    },
    {
     "name": "stderr",
     "output_type": "stream",
     "text": [
      "/home/matej/anaconda3/lib/python3.7/site-packages/sklearn/linear_model/logistic.py:433: FutureWarning: Default solver will be changed to 'lbfgs' in 0.22. Specify a solver to silence this warning.\n",
      "  FutureWarning)\n"
     ]
    },
    {
     "name": "stdout",
     "output_type": "stream",
     "text": [
      "[CV]  classifier__C=0.15, classifier__class_weight={0: 0.01, 1: 0.99}, score=0.48122866894197946, total=   1.1s\n",
      "[Parallel(n_jobs=1)]: Done  23 out of  23 | elapsed:   51.5s remaining:    0.0s\n",
      "[CV] classifier__C=0.15, classifier__class_weight={0: 0.01, 1: 0.99} .\n"
     ]
    },
    {
     "name": "stderr",
     "output_type": "stream",
     "text": [
      "/home/matej/anaconda3/lib/python3.7/site-packages/sklearn/linear_model/logistic.py:433: FutureWarning: Default solver will be changed to 'lbfgs' in 0.22. Specify a solver to silence this warning.\n",
      "  FutureWarning)\n"
     ]
    },
    {
     "name": "stdout",
     "output_type": "stream",
     "text": [
      "[CV]  classifier__C=0.15, classifier__class_weight={0: 0.01, 1: 0.99}, score=0.41739130434782606, total=   1.1s\n",
      "[Parallel(n_jobs=1)]: Done  24 out of  24 | elapsed:   52.7s remaining:    0.0s\n",
      "[CV] classifier__C=0.15, classifier__class_weight=balanced ...........\n"
     ]
    },
    {
     "name": "stderr",
     "output_type": "stream",
     "text": [
      "/home/matej/anaconda3/lib/python3.7/site-packages/sklearn/linear_model/logistic.py:433: FutureWarning: Default solver will be changed to 'lbfgs' in 0.22. Specify a solver to silence this warning.\n",
      "  FutureWarning)\n"
     ]
    },
    {
     "name": "stdout",
     "output_type": "stream",
     "text": [
      "[CV]  classifier__C=0.15, classifier__class_weight=balanced, score=0.11153262518968134, total=   2.5s\n",
      "[Parallel(n_jobs=1)]: Done  25 out of  25 | elapsed:   55.2s remaining:    0.0s\n",
      "[CV] classifier__C=0.15, classifier__class_weight=balanced ...........\n"
     ]
    },
    {
     "name": "stderr",
     "output_type": "stream",
     "text": [
      "/home/matej/anaconda3/lib/python3.7/site-packages/sklearn/linear_model/logistic.py:433: FutureWarning: Default solver will be changed to 'lbfgs' in 0.22. Specify a solver to silence this warning.\n",
      "  FutureWarning)\n"
     ]
    },
    {
     "name": "stdout",
     "output_type": "stream",
     "text": [
      "[CV]  classifier__C=0.15, classifier__class_weight=balanced, score=0.10641200545702593, total=   2.9s\n",
      "[Parallel(n_jobs=1)]: Done  26 out of  26 | elapsed:   58.1s remaining:    0.0s\n",
      "[CV] classifier__C=0.15, classifier__class_weight={0: 0.3, 1: 0.7} ...\n"
     ]
    },
    {
     "name": "stderr",
     "output_type": "stream",
     "text": [
      "/home/matej/anaconda3/lib/python3.7/site-packages/sklearn/linear_model/logistic.py:433: FutureWarning: Default solver will be changed to 'lbfgs' in 0.22. Specify a solver to silence this warning.\n",
      "  FutureWarning)\n"
     ]
    },
    {
     "name": "stdout",
     "output_type": "stream",
     "text": [
      "[CV]  classifier__C=0.15, classifier__class_weight={0: 0.3, 1: 0.7}, score=0.7672131147540984, total=   1.0s\n",
      "[Parallel(n_jobs=1)]: Done  27 out of  27 | elapsed:   59.2s remaining:    0.0s\n",
      "[CV] classifier__C=0.15, classifier__class_weight={0: 0.3, 1: 0.7} ...\n"
     ]
    },
    {
     "name": "stderr",
     "output_type": "stream",
     "text": [
      "/home/matej/anaconda3/lib/python3.7/site-packages/sklearn/linear_model/logistic.py:433: FutureWarning: Default solver will be changed to 'lbfgs' in 0.22. Specify a solver to silence this warning.\n",
      "  FutureWarning)\n"
     ]
    },
    {
     "name": "stdout",
     "output_type": "stream",
     "text": [
      "[CV]  classifier__C=0.15, classifier__class_weight={0: 0.3, 1: 0.7}, score=0.7631578947368423, total=   1.3s\n",
      "[Parallel(n_jobs=1)]: Done  28 out of  28 | elapsed:  1.0min remaining:    0.0s\n",
      "[CV] classifier__C=0.15, classifier__class_weight={0: 0.2, 1: 0.99} ..\n"
     ]
    },
    {
     "name": "stderr",
     "output_type": "stream",
     "text": [
      "/home/matej/anaconda3/lib/python3.7/site-packages/sklearn/linear_model/logistic.py:433: FutureWarning: Default solver will be changed to 'lbfgs' in 0.22. Specify a solver to silence this warning.\n",
      "  FutureWarning)\n"
     ]
    },
    {
     "name": "stdout",
     "output_type": "stream",
     "text": [
      "[CV]  classifier__C=0.15, classifier__class_weight={0: 0.2, 1: 0.99}, score=0.7818181818181819, total=   1.4s\n",
      "[Parallel(n_jobs=1)]: Done  29 out of  29 | elapsed:  1.0min remaining:    0.0s\n",
      "[CV] classifier__C=0.15, classifier__class_weight={0: 0.2, 1: 0.99} ..\n"
     ]
    },
    {
     "name": "stderr",
     "output_type": "stream",
     "text": [
      "/home/matej/anaconda3/lib/python3.7/site-packages/sklearn/linear_model/logistic.py:433: FutureWarning: Default solver will be changed to 'lbfgs' in 0.22. Specify a solver to silence this warning.\n",
      "  FutureWarning)\n"
     ]
    },
    {
     "name": "stdout",
     "output_type": "stream",
     "text": [
      "[CV]  classifier__C=0.15, classifier__class_weight={0: 0.2, 1: 0.99}, score=0.7761194029850746, total=   1.9s\n",
      "[Parallel(n_jobs=1)]: Done  30 out of  30 | elapsed:  1.1min remaining:    0.0s\n",
      "[CV] classifier__C=0.2, classifier__class_weight={0: 0.1, 1: 0.9} ....\n"
     ]
    },
    {
     "name": "stderr",
     "output_type": "stream",
     "text": [
      "/home/matej/anaconda3/lib/python3.7/site-packages/sklearn/linear_model/logistic.py:433: FutureWarning: Default solver will be changed to 'lbfgs' in 0.22. Specify a solver to silence this warning.\n",
      "  FutureWarning)\n"
     ]
    },
    {
     "name": "stdout",
     "output_type": "stream",
     "text": [
      "[CV]  classifier__C=0.2, classifier__class_weight={0: 0.1, 1: 0.9}, score=0.7833827893175074, total=   1.6s\n",
      "[Parallel(n_jobs=1)]: Done  31 out of  31 | elapsed:  1.1min remaining:    0.0s\n",
      "[CV] classifier__C=0.2, classifier__class_weight={0: 0.1, 1: 0.9} ....\n"
     ]
    },
    {
     "name": "stderr",
     "output_type": "stream",
     "text": [
      "/home/matej/anaconda3/lib/python3.7/site-packages/sklearn/linear_model/logistic.py:433: FutureWarning: Default solver will be changed to 'lbfgs' in 0.22. Specify a solver to silence this warning.\n",
      "  FutureWarning)\n"
     ]
    },
    {
     "name": "stdout",
     "output_type": "stream",
     "text": [
      "[CV]  classifier__C=0.2, classifier__class_weight={0: 0.1, 1: 0.9}, score=0.78134110787172, total=   1.4s\n",
      "[Parallel(n_jobs=1)]: Done  32 out of  32 | elapsed:  1.1min remaining:    0.0s\n",
      "[CV] classifier__C=0.2, classifier__class_weight={0: 0.01, 1: 0.99} ..\n"
     ]
    },
    {
     "name": "stderr",
     "output_type": "stream",
     "text": [
      "/home/matej/anaconda3/lib/python3.7/site-packages/sklearn/linear_model/logistic.py:433: FutureWarning: Default solver will be changed to 'lbfgs' in 0.22. Specify a solver to silence this warning.\n",
      "  FutureWarning)\n"
     ]
    },
    {
     "name": "stdout",
     "output_type": "stream",
     "text": [
      "[CV]  classifier__C=0.2, classifier__class_weight={0: 0.01, 1: 0.99}, score=0.46229508196721303, total=   1.3s\n",
      "[Parallel(n_jobs=1)]: Done  33 out of  33 | elapsed:  1.1min remaining:    0.0s\n",
      "[CV] classifier__C=0.2, classifier__class_weight={0: 0.01, 1: 0.99} ..\n"
     ]
    },
    {
     "name": "stderr",
     "output_type": "stream",
     "text": [
      "/home/matej/anaconda3/lib/python3.7/site-packages/sklearn/linear_model/logistic.py:433: FutureWarning: Default solver will be changed to 'lbfgs' in 0.22. Specify a solver to silence this warning.\n",
      "  FutureWarning)\n"
     ]
    },
    {
     "name": "stdout",
     "output_type": "stream",
     "text": [
      "[CV]  classifier__C=0.2, classifier__class_weight={0: 0.01, 1: 0.99}, score=0.3983402489626556, total=   1.3s\n",
      "[Parallel(n_jobs=1)]: Done  34 out of  34 | elapsed:  1.2min remaining:    0.0s\n",
      "[CV] classifier__C=0.2, classifier__class_weight=balanced ............\n"
     ]
    },
    {
     "name": "stderr",
     "output_type": "stream",
     "text": [
      "/home/matej/anaconda3/lib/python3.7/site-packages/sklearn/linear_model/logistic.py:433: FutureWarning: Default solver will be changed to 'lbfgs' in 0.22. Specify a solver to silence this warning.\n",
      "  FutureWarning)\n"
     ]
    },
    {
     "name": "stdout",
     "output_type": "stream",
     "text": [
      "[CV]  classifier__C=0.2, classifier__class_weight=balanced, score=0.11149032992036406, total=   2.5s\n",
      "[Parallel(n_jobs=1)]: Done  35 out of  35 | elapsed:  1.2min remaining:    0.0s\n",
      "[CV] classifier__C=0.2, classifier__class_weight=balanced ............\n"
     ]
    },
    {
     "name": "stderr",
     "output_type": "stream",
     "text": [
      "/home/matej/anaconda3/lib/python3.7/site-packages/sklearn/linear_model/logistic.py:433: FutureWarning: Default solver will be changed to 'lbfgs' in 0.22. Specify a solver to silence this warning.\n",
      "  FutureWarning)\n"
     ]
    },
    {
     "name": "stdout",
     "output_type": "stream",
     "text": [
      "[CV]  classifier__C=0.2, classifier__class_weight=balanced, score=0.10648464163822526, total=   2.3s\n",
      "[Parallel(n_jobs=1)]: Done  36 out of  36 | elapsed:  1.2min remaining:    0.0s\n",
      "[CV] classifier__C=0.2, classifier__class_weight={0: 0.3, 1: 0.7} ....\n"
     ]
    },
    {
     "name": "stderr",
     "output_type": "stream",
     "text": [
      "/home/matej/anaconda3/lib/python3.7/site-packages/sklearn/linear_model/logistic.py:433: FutureWarning: Default solver will be changed to 'lbfgs' in 0.22. Specify a solver to silence this warning.\n",
      "  FutureWarning)\n"
     ]
    },
    {
     "name": "stdout",
     "output_type": "stream",
     "text": [
      "[CV]  classifier__C=0.2, classifier__class_weight={0: 0.3, 1: 0.7}, score=0.7647058823529411, total=   1.1s\n",
      "[Parallel(n_jobs=1)]: Done  37 out of  37 | elapsed:  1.3min remaining:    0.0s\n",
      "[CV] classifier__C=0.2, classifier__class_weight={0: 0.3, 1: 0.7} ....\n"
     ]
    },
    {
     "name": "stderr",
     "output_type": "stream",
     "text": [
      "/home/matej/anaconda3/lib/python3.7/site-packages/sklearn/linear_model/logistic.py:433: FutureWarning: Default solver will be changed to 'lbfgs' in 0.22. Specify a solver to silence this warning.\n",
      "  FutureWarning)\n"
     ]
    },
    {
     "name": "stdout",
     "output_type": "stream",
     "text": [
      "[CV]  classifier__C=0.2, classifier__class_weight={0: 0.3, 1: 0.7}, score=0.762214983713355, total=   1.5s\n",
      "[Parallel(n_jobs=1)]: Done  38 out of  38 | elapsed:  1.3min remaining:    0.0s\n",
      "[CV] classifier__C=0.2, classifier__class_weight={0: 0.2, 1: 0.99} ...\n"
     ]
    },
    {
     "name": "stderr",
     "output_type": "stream",
     "text": [
      "/home/matej/anaconda3/lib/python3.7/site-packages/sklearn/linear_model/logistic.py:433: FutureWarning: Default solver will be changed to 'lbfgs' in 0.22. Specify a solver to silence this warning.\n",
      "  FutureWarning)\n"
     ]
    },
    {
     "name": "stdout",
     "output_type": "stream",
     "text": [
      "[CV]  classifier__C=0.2, classifier__class_weight={0: 0.2, 1: 0.99}, score=0.7818181818181819, total=   1.2s\n",
      "[Parallel(n_jobs=1)]: Done  39 out of  39 | elapsed:  1.3min remaining:    0.0s\n",
      "[CV] classifier__C=0.2, classifier__class_weight={0: 0.2, 1: 0.99} ...\n"
     ]
    },
    {
     "name": "stderr",
     "output_type": "stream",
     "text": [
      "/home/matej/anaconda3/lib/python3.7/site-packages/sklearn/linear_model/logistic.py:433: FutureWarning: Default solver will be changed to 'lbfgs' in 0.22. Specify a solver to silence this warning.\n",
      "  FutureWarning)\n"
     ]
    },
    {
     "name": "stdout",
     "output_type": "stream",
     "text": [
      "[CV]  classifier__C=0.2, classifier__class_weight={0: 0.2, 1: 0.99}, score=0.7761194029850746, total=   1.7s\n",
      "[Parallel(n_jobs=1)]: Done  40 out of  40 | elapsed:  1.3min remaining:    0.0s\n",
      "[CV] classifier__C=0.25, classifier__class_weight={0: 0.1, 1: 0.9} ...\n"
     ]
    },
    {
     "name": "stderr",
     "output_type": "stream",
     "text": [
      "/home/matej/anaconda3/lib/python3.7/site-packages/sklearn/linear_model/logistic.py:433: FutureWarning: Default solver will be changed to 'lbfgs' in 0.22. Specify a solver to silence this warning.\n",
      "  FutureWarning)\n"
     ]
    },
    {
     "name": "stdout",
     "output_type": "stream",
     "text": [
      "[CV]  classifier__C=0.25, classifier__class_weight={0: 0.1, 1: 0.9}, score=0.7810650887573964, total=   1.7s\n",
      "[Parallel(n_jobs=1)]: Done  41 out of  41 | elapsed:  1.4min remaining:    0.0s\n",
      "[CV] classifier__C=0.25, classifier__class_weight={0: 0.1, 1: 0.9} ...\n"
     ]
    },
    {
     "name": "stderr",
     "output_type": "stream",
     "text": [
      "/home/matej/anaconda3/lib/python3.7/site-packages/sklearn/linear_model/logistic.py:433: FutureWarning: Default solver will be changed to 'lbfgs' in 0.22. Specify a solver to silence this warning.\n",
      "  FutureWarning)\n"
     ]
    },
    {
     "name": "stdout",
     "output_type": "stream",
     "text": [
      "[CV]  classifier__C=0.25, classifier__class_weight={0: 0.1, 1: 0.9}, score=0.7871720116618075, total=   1.9s\n",
      "[Parallel(n_jobs=1)]: Done  42 out of  42 | elapsed:  1.4min remaining:    0.0s\n",
      "[CV] classifier__C=0.25, classifier__class_weight={0: 0.01, 1: 0.99} .\n"
     ]
    },
    {
     "name": "stderr",
     "output_type": "stream",
     "text": [
      "/home/matej/anaconda3/lib/python3.7/site-packages/sklearn/linear_model/logistic.py:433: FutureWarning: Default solver will be changed to 'lbfgs' in 0.22. Specify a solver to silence this warning.\n",
      "  FutureWarning)\n"
     ]
    },
    {
     "name": "stdout",
     "output_type": "stream",
     "text": [
      "[CV]  classifier__C=0.25, classifier__class_weight={0: 0.01, 1: 0.99}, score=0.45192307692307687, total=   1.5s\n",
      "[Parallel(n_jobs=1)]: Done  43 out of  43 | elapsed:  1.4min remaining:    0.0s\n",
      "[CV] classifier__C=0.25, classifier__class_weight={0: 0.01, 1: 0.99} .\n"
     ]
    },
    {
     "name": "stderr",
     "output_type": "stream",
     "text": [
      "/home/matej/anaconda3/lib/python3.7/site-packages/sklearn/linear_model/logistic.py:433: FutureWarning: Default solver will be changed to 'lbfgs' in 0.22. Specify a solver to silence this warning.\n",
      "  FutureWarning)\n"
     ]
    },
    {
     "name": "stdout",
     "output_type": "stream",
     "text": [
      "[CV]  classifier__C=0.25, classifier__class_weight={0: 0.01, 1: 0.99}, score=0.3855421686746987, total=   1.6s\n",
      "[Parallel(n_jobs=1)]: Done  44 out of  44 | elapsed:  1.5min remaining:    0.0s\n",
      "[CV] classifier__C=0.25, classifier__class_weight=balanced ...........\n"
     ]
    },
    {
     "name": "stderr",
     "output_type": "stream",
     "text": [
      "/home/matej/anaconda3/lib/python3.7/site-packages/sklearn/linear_model/logistic.py:433: FutureWarning: Default solver will be changed to 'lbfgs' in 0.22. Specify a solver to silence this warning.\n",
      "  FutureWarning)\n"
     ]
    },
    {
     "name": "stdout",
     "output_type": "stream",
     "text": [
      "[CV]  classifier__C=0.25, classifier__class_weight=balanced, score=0.11140583554376657, total=   3.4s\n",
      "[Parallel(n_jobs=1)]: Done  45 out of  45 | elapsed:  1.5min remaining:    0.0s\n",
      "[CV] classifier__C=0.25, classifier__class_weight=balanced ...........\n"
     ]
    },
    {
     "name": "stderr",
     "output_type": "stream",
     "text": [
      "/home/matej/anaconda3/lib/python3.7/site-packages/sklearn/linear_model/logistic.py:433: FutureWarning: Default solver will be changed to 'lbfgs' in 0.22. Specify a solver to silence this warning.\n",
      "  FutureWarning)\n"
     ]
    },
    {
     "name": "stdout",
     "output_type": "stream",
     "text": [
      "[CV]  classifier__C=0.25, classifier__class_weight=balanced, score=0.10630323679727428, total=   3.4s\n",
      "[Parallel(n_jobs=1)]: Done  46 out of  46 | elapsed:  1.6min remaining:    0.0s\n",
      "[CV] classifier__C=0.25, classifier__class_weight={0: 0.3, 1: 0.7} ...\n"
     ]
    },
    {
     "name": "stderr",
     "output_type": "stream",
     "text": [
      "/home/matej/anaconda3/lib/python3.7/site-packages/sklearn/linear_model/logistic.py:433: FutureWarning: Default solver will be changed to 'lbfgs' in 0.22. Specify a solver to silence this warning.\n",
      "  FutureWarning)\n"
     ]
    },
    {
     "name": "stdout",
     "output_type": "stream",
     "text": [
      "[CV]  classifier__C=0.25, classifier__class_weight={0: 0.3, 1: 0.7}, score=0.7687296416938111, total=   1.2s\n",
      "[Parallel(n_jobs=1)]: Done  47 out of  47 | elapsed:  1.6min remaining:    0.0s\n",
      "[CV] classifier__C=0.25, classifier__class_weight={0: 0.3, 1: 0.7} ...\n"
     ]
    },
    {
     "name": "stderr",
     "output_type": "stream",
     "text": [
      "/home/matej/anaconda3/lib/python3.7/site-packages/sklearn/linear_model/logistic.py:433: FutureWarning: Default solver will be changed to 'lbfgs' in 0.22. Specify a solver to silence this warning.\n",
      "  FutureWarning)\n"
     ]
    },
    {
     "name": "stdout",
     "output_type": "stream",
     "text": [
      "[CV]  classifier__C=0.25, classifier__class_weight={0: 0.3, 1: 0.7}, score=0.7588424437299035, total=   1.6s\n",
      "[Parallel(n_jobs=1)]: Done  48 out of  48 | elapsed:  1.6min remaining:    0.0s\n",
      "[CV] classifier__C=0.25, classifier__class_weight={0: 0.2, 1: 0.99} ..\n"
     ]
    },
    {
     "name": "stderr",
     "output_type": "stream",
     "text": [
      "/home/matej/anaconda3/lib/python3.7/site-packages/sklearn/linear_model/logistic.py:433: FutureWarning: Default solver will be changed to 'lbfgs' in 0.22. Specify a solver to silence this warning.\n",
      "  FutureWarning)\n"
     ]
    },
    {
     "name": "stdout",
     "output_type": "stream",
     "text": [
      "[CV]  classifier__C=0.25, classifier__class_weight={0: 0.2, 1: 0.99}, score=0.7794561933534742, total=   1.2s\n",
      "[Parallel(n_jobs=1)]: Done  49 out of  49 | elapsed:  1.6min remaining:    0.0s\n",
      "[CV] classifier__C=0.25, classifier__class_weight={0: 0.2, 1: 0.99} ..\n"
     ]
    },
    {
     "name": "stderr",
     "output_type": "stream",
     "text": [
      "/home/matej/anaconda3/lib/python3.7/site-packages/sklearn/linear_model/logistic.py:433: FutureWarning: Default solver will be changed to 'lbfgs' in 0.22. Specify a solver to silence this warning.\n",
      "  FutureWarning)\n"
     ]
    },
    {
     "name": "stdout",
     "output_type": "stream",
     "text": [
      "[CV]  classifier__C=0.25, classifier__class_weight={0: 0.2, 1: 0.99}, score=0.7761194029850746, total=   1.9s\n",
      "[Parallel(n_jobs=1)]: Done  50 out of  50 | elapsed:  1.7min remaining:    0.0s\n",
      "[CV] classifier__C=0.3, classifier__class_weight={0: 0.1, 1: 0.9} ....\n"
     ]
    },
    {
     "name": "stderr",
     "output_type": "stream",
     "text": [
      "/home/matej/anaconda3/lib/python3.7/site-packages/sklearn/linear_model/logistic.py:433: FutureWarning: Default solver will be changed to 'lbfgs' in 0.22. Specify a solver to silence this warning.\n",
      "  FutureWarning)\n"
     ]
    },
    {
     "name": "stdout",
     "output_type": "stream",
     "text": [
      "[CV]  classifier__C=0.3, classifier__class_weight={0: 0.1, 1: 0.9}, score=0.7787610619469028, total=   1.7s\n",
      "[Parallel(n_jobs=1)]: Done  51 out of  51 | elapsed:  1.7min remaining:    0.0s\n",
      "[CV] classifier__C=0.3, classifier__class_weight={0: 0.1, 1: 0.9} ....\n"
     ]
    },
    {
     "name": "stderr",
     "output_type": "stream",
     "text": [
      "/home/matej/anaconda3/lib/python3.7/site-packages/sklearn/linear_model/logistic.py:433: FutureWarning: Default solver will be changed to 'lbfgs' in 0.22. Specify a solver to silence this warning.\n",
      "  FutureWarning)\n"
     ]
    },
    {
     "name": "stdout",
     "output_type": "stream",
     "text": [
      "[CV]  classifier__C=0.3, classifier__class_weight={0: 0.1, 1: 0.9}, score=0.7848837209302326, total=   1.5s\n",
      "[Parallel(n_jobs=1)]: Done  52 out of  52 | elapsed:  1.7min remaining:    0.0s\n",
      "[CV] classifier__C=0.3, classifier__class_weight={0: 0.01, 1: 0.99} ..\n"
     ]
    },
    {
     "name": "stderr",
     "output_type": "stream",
     "text": [
      "/home/matej/anaconda3/lib/python3.7/site-packages/sklearn/linear_model/logistic.py:433: FutureWarning: Default solver will be changed to 'lbfgs' in 0.22. Specify a solver to silence this warning.\n",
      "  FutureWarning)\n"
     ]
    },
    {
     "name": "stdout",
     "output_type": "stream",
     "text": [
      "[CV]  classifier__C=0.3, classifier__class_weight={0: 0.01, 1: 0.99}, score=0.44270015698587123, total=   1.2s\n",
      "[Parallel(n_jobs=1)]: Done  53 out of  53 | elapsed:  1.8min remaining:    0.0s\n",
      "[CV] classifier__C=0.3, classifier__class_weight={0: 0.01, 1: 0.99} ..\n"
     ]
    },
    {
     "name": "stderr",
     "output_type": "stream",
     "text": [
      "/home/matej/anaconda3/lib/python3.7/site-packages/sklearn/linear_model/logistic.py:433: FutureWarning: Default solver will be changed to 'lbfgs' in 0.22. Specify a solver to silence this warning.\n",
      "  FutureWarning)\n"
     ]
    },
    {
     "name": "stdout",
     "output_type": "stream",
     "text": [
      "[CV]  classifier__C=0.3, classifier__class_weight={0: 0.01, 1: 0.99}, score=0.37894736842105264, total=   1.3s\n",
      "[Parallel(n_jobs=1)]: Done  54 out of  54 | elapsed:  1.8min remaining:    0.0s\n",
      "[CV] classifier__C=0.3, classifier__class_weight=balanced ............\n"
     ]
    },
    {
     "name": "stderr",
     "output_type": "stream",
     "text": [
      "/home/matej/anaconda3/lib/python3.7/site-packages/sklearn/linear_model/logistic.py:433: FutureWarning: Default solver will be changed to 'lbfgs' in 0.22. Specify a solver to silence this warning.\n",
      "  FutureWarning)\n"
     ]
    },
    {
     "name": "stdout",
     "output_type": "stream",
     "text": [
      "[CV]  classifier__C=0.3, classifier__class_weight=balanced, score=0.11161731207289294, total=   2.7s\n",
      "[Parallel(n_jobs=1)]: Done  55 out of  55 | elapsed:  1.8min remaining:    0.0s\n",
      "[CV] classifier__C=0.3, classifier__class_weight=balanced ............\n"
     ]
    },
    {
     "name": "stderr",
     "output_type": "stream",
     "text": [
      "/home/matej/anaconda3/lib/python3.7/site-packages/sklearn/linear_model/logistic.py:433: FutureWarning: Default solver will be changed to 'lbfgs' in 0.22. Specify a solver to silence this warning.\n",
      "  FutureWarning)\n"
     ]
    },
    {
     "name": "stdout",
     "output_type": "stream",
     "text": [
      "[CV]  classifier__C=0.3, classifier__class_weight=balanced, score=0.10633946830265849, total=   2.9s\n",
      "[Parallel(n_jobs=1)]: Done  56 out of  56 | elapsed:  1.9min remaining:    0.0s\n",
      "[CV] classifier__C=0.3, classifier__class_weight={0: 0.3, 1: 0.7} ....\n"
     ]
    },
    {
     "name": "stderr",
     "output_type": "stream",
     "text": [
      "/home/matej/anaconda3/lib/python3.7/site-packages/sklearn/linear_model/logistic.py:433: FutureWarning: Default solver will be changed to 'lbfgs' in 0.22. Specify a solver to silence this warning.\n",
      "  FutureWarning)\n"
     ]
    },
    {
     "name": "stdout",
     "output_type": "stream",
     "text": [
      "[CV]  classifier__C=0.3, classifier__class_weight={0: 0.3, 1: 0.7}, score=0.7637540453074433, total=   1.2s\n",
      "[Parallel(n_jobs=1)]: Done  57 out of  57 | elapsed:  1.9min remaining:    0.0s\n",
      "[CV] classifier__C=0.3, classifier__class_weight={0: 0.3, 1: 0.7} ....\n"
     ]
    },
    {
     "name": "stderr",
     "output_type": "stream",
     "text": [
      "/home/matej/anaconda3/lib/python3.7/site-packages/sklearn/linear_model/logistic.py:433: FutureWarning: Default solver will be changed to 'lbfgs' in 0.22. Specify a solver to silence this warning.\n",
      "  FutureWarning)\n"
     ]
    },
    {
     "name": "stdout",
     "output_type": "stream",
     "text": [
      "[CV]  classifier__C=0.3, classifier__class_weight={0: 0.3, 1: 0.7}, score=0.7564102564102564, total=   1.2s\n",
      "[Parallel(n_jobs=1)]: Done  58 out of  58 | elapsed:  1.9min remaining:    0.0s\n",
      "[CV] classifier__C=0.3, classifier__class_weight={0: 0.2, 1: 0.99} ...\n"
     ]
    },
    {
     "name": "stderr",
     "output_type": "stream",
     "text": [
      "/home/matej/anaconda3/lib/python3.7/site-packages/sklearn/linear_model/logistic.py:433: FutureWarning: Default solver will be changed to 'lbfgs' in 0.22. Specify a solver to silence this warning.\n",
      "  FutureWarning)\n"
     ]
    },
    {
     "name": "stdout",
     "output_type": "stream",
     "text": [
      "[CV]  classifier__C=0.3, classifier__class_weight={0: 0.2, 1: 0.99}, score=0.778443113772455, total=   1.3s\n",
      "[Parallel(n_jobs=1)]: Done  59 out of  59 | elapsed:  1.9min remaining:    0.0s\n",
      "[CV] classifier__C=0.3, classifier__class_weight={0: 0.2, 1: 0.99} ...\n"
     ]
    },
    {
     "name": "stderr",
     "output_type": "stream",
     "text": [
      "/home/matej/anaconda3/lib/python3.7/site-packages/sklearn/linear_model/logistic.py:433: FutureWarning: Default solver will be changed to 'lbfgs' in 0.22. Specify a solver to silence this warning.\n",
      "  FutureWarning)\n"
     ]
    },
    {
     "name": "stdout",
     "output_type": "stream",
     "text": [
      "[CV]  classifier__C=0.3, classifier__class_weight={0: 0.2, 1: 0.99}, score=0.7761194029850746, total=   1.5s\n",
      "[Parallel(n_jobs=1)]: Done  60 out of  60 | elapsed:  2.0min remaining:    0.0s\n",
      "[CV] classifier__C=0.4, classifier__class_weight={0: 0.1, 1: 0.9} ....\n"
     ]
    },
    {
     "name": "stderr",
     "output_type": "stream",
     "text": [
      "/home/matej/anaconda3/lib/python3.7/site-packages/sklearn/linear_model/logistic.py:433: FutureWarning: Default solver will be changed to 'lbfgs' in 0.22. Specify a solver to silence this warning.\n",
      "  FutureWarning)\n"
     ]
    },
    {
     "name": "stdout",
     "output_type": "stream",
     "text": [
      "[CV]  classifier__C=0.4, classifier__class_weight={0: 0.1, 1: 0.9}, score=0.7787610619469028, total=   1.4s\n",
      "[Parallel(n_jobs=1)]: Done  61 out of  61 | elapsed:  2.0min remaining:    0.0s\n",
      "[CV] classifier__C=0.4, classifier__class_weight={0: 0.1, 1: 0.9} ....\n"
     ]
    },
    {
     "name": "stderr",
     "output_type": "stream",
     "text": [
      "/home/matej/anaconda3/lib/python3.7/site-packages/sklearn/linear_model/logistic.py:433: FutureWarning: Default solver will be changed to 'lbfgs' in 0.22. Specify a solver to silence this warning.\n",
      "  FutureWarning)\n"
     ]
    },
    {
     "name": "stdout",
     "output_type": "stream",
     "text": [
      "[CV]  classifier__C=0.4, classifier__class_weight={0: 0.1, 1: 0.9}, score=0.7848837209302326, total=   1.3s\n",
      "[Parallel(n_jobs=1)]: Done  62 out of  62 | elapsed:  2.0min remaining:    0.0s\n",
      "[CV] classifier__C=0.4, classifier__class_weight={0: 0.01, 1: 0.99} ..\n"
     ]
    },
    {
     "name": "stderr",
     "output_type": "stream",
     "text": [
      "/home/matej/anaconda3/lib/python3.7/site-packages/sklearn/linear_model/logistic.py:433: FutureWarning: Default solver will be changed to 'lbfgs' in 0.22. Specify a solver to silence this warning.\n",
      "  FutureWarning)\n"
     ]
    },
    {
     "name": "stdout",
     "output_type": "stream",
     "text": [
      "[CV]  classifier__C=0.4, classifier__class_weight={0: 0.01, 1: 0.99}, score=0.4285714285714285, total=   1.2s\n",
      "[Parallel(n_jobs=1)]: Done  63 out of  63 | elapsed:  2.0min remaining:    0.0s\n",
      "[CV] classifier__C=0.4, classifier__class_weight={0: 0.01, 1: 0.99} ..\n"
     ]
    },
    {
     "name": "stderr",
     "output_type": "stream",
     "text": [
      "/home/matej/anaconda3/lib/python3.7/site-packages/sklearn/linear_model/logistic.py:433: FutureWarning: Default solver will be changed to 'lbfgs' in 0.22. Specify a solver to silence this warning.\n",
      "  FutureWarning)\n"
     ]
    },
    {
     "name": "stdout",
     "output_type": "stream",
     "text": [
      "[CV]  classifier__C=0.4, classifier__class_weight={0: 0.01, 1: 0.99}, score=0.37037037037037035, total=   1.1s\n",
      "[Parallel(n_jobs=1)]: Done  64 out of  64 | elapsed:  2.1min remaining:    0.0s\n",
      "[CV] classifier__C=0.4, classifier__class_weight=balanced ............\n"
     ]
    },
    {
     "name": "stderr",
     "output_type": "stream",
     "text": [
      "/home/matej/anaconda3/lib/python3.7/site-packages/sklearn/linear_model/logistic.py:433: FutureWarning: Default solver will be changed to 'lbfgs' in 0.22. Specify a solver to silence this warning.\n",
      "  FutureWarning)\n"
     ]
    },
    {
     "name": "stdout",
     "output_type": "stream",
     "text": [
      "[CV]  classifier__C=0.4, classifier__class_weight=balanced, score=0.11149032992036406, total=   3.0s\n",
      "[Parallel(n_jobs=1)]: Done  65 out of  65 | elapsed:  2.1min remaining:    0.0s\n",
      "[CV] classifier__C=0.4, classifier__class_weight=balanced ............\n"
     ]
    },
    {
     "name": "stderr",
     "output_type": "stream",
     "text": [
      "/home/matej/anaconda3/lib/python3.7/site-packages/sklearn/linear_model/logistic.py:433: FutureWarning: Default solver will be changed to 'lbfgs' in 0.22. Specify a solver to silence this warning.\n",
      "  FutureWarning)\n"
     ]
    },
    {
     "name": "stdout",
     "output_type": "stream",
     "text": [
      "[CV]  classifier__C=0.4, classifier__class_weight=balanced, score=0.10558583106267032, total=   3.0s\n",
      "[Parallel(n_jobs=1)]: Done  66 out of  66 | elapsed:  2.2min remaining:    0.0s\n",
      "[CV] classifier__C=0.4, classifier__class_weight={0: 0.3, 1: 0.7} ....\n"
     ]
    },
    {
     "name": "stderr",
     "output_type": "stream",
     "text": [
      "/home/matej/anaconda3/lib/python3.7/site-packages/sklearn/linear_model/logistic.py:433: FutureWarning: Default solver will be changed to 'lbfgs' in 0.22. Specify a solver to silence this warning.\n",
      "  FutureWarning)\n"
     ]
    },
    {
     "name": "stdout",
     "output_type": "stream",
     "text": [
      "[CV]  classifier__C=0.4, classifier__class_weight={0: 0.3, 1: 0.7}, score=0.7628205128205128, total=   1.2s\n",
      "[Parallel(n_jobs=1)]: Done  67 out of  67 | elapsed:  2.2min remaining:    0.0s\n",
      "[CV] classifier__C=0.4, classifier__class_weight={0: 0.3, 1: 0.7} ....\n"
     ]
    },
    {
     "name": "stderr",
     "output_type": "stream",
     "text": [
      "/home/matej/anaconda3/lib/python3.7/site-packages/sklearn/linear_model/logistic.py:433: FutureWarning: Default solver will be changed to 'lbfgs' in 0.22. Specify a solver to silence this warning.\n",
      "  FutureWarning)\n"
     ]
    },
    {
     "name": "stdout",
     "output_type": "stream",
     "text": [
      "[CV]  classifier__C=0.4, classifier__class_weight={0: 0.3, 1: 0.7}, score=0.7564102564102564, total=   1.4s\n",
      "[Parallel(n_jobs=1)]: Done  68 out of  68 | elapsed:  2.2min remaining:    0.0s\n",
      "[CV] classifier__C=0.4, classifier__class_weight={0: 0.2, 1: 0.99} ...\n"
     ]
    },
    {
     "name": "stderr",
     "output_type": "stream",
     "text": [
      "/home/matej/anaconda3/lib/python3.7/site-packages/sklearn/linear_model/logistic.py:433: FutureWarning: Default solver will be changed to 'lbfgs' in 0.22. Specify a solver to silence this warning.\n",
      "  FutureWarning)\n"
     ]
    },
    {
     "name": "stdout",
     "output_type": "stream",
     "text": [
      "[CV]  classifier__C=0.4, classifier__class_weight={0: 0.2, 1: 0.99}, score=0.778443113772455, total=   1.1s\n",
      "[Parallel(n_jobs=1)]: Done  69 out of  69 | elapsed:  2.2min remaining:    0.0s\n",
      "[CV] classifier__C=0.4, classifier__class_weight={0: 0.2, 1: 0.99} ...\n"
     ]
    },
    {
     "name": "stderr",
     "output_type": "stream",
     "text": [
      "/home/matej/anaconda3/lib/python3.7/site-packages/sklearn/linear_model/logistic.py:433: FutureWarning: Default solver will be changed to 'lbfgs' in 0.22. Specify a solver to silence this warning.\n",
      "  FutureWarning)\n"
     ]
    },
    {
     "name": "stdout",
     "output_type": "stream",
     "text": [
      "[CV]  classifier__C=0.4, classifier__class_weight={0: 0.2, 1: 0.99}, score=0.7761194029850746, total=   1.7s\n",
      "[Parallel(n_jobs=1)]: Done  70 out of  70 | elapsed:  2.3min remaining:    0.0s\n",
      "[Parallel(n_jobs=1)]: Done  70 out of  70 | elapsed:  2.3min finished\n"
     ]
    },
    {
     "name": "stderr",
     "output_type": "stream",
     "text": [
      "/home/matej/anaconda3/lib/python3.7/site-packages/sklearn/linear_model/logistic.py:433: FutureWarning: Default solver will be changed to 'lbfgs' in 0.22. Specify a solver to silence this warning.\n",
      "  FutureWarning)\n"
     ]
    }
   ],
   "source": [
    "from sklearn.metrics import precision_score, recall_score, f1_score\n",
    "from sklearn.linear_model import LogisticRegression as LR\n",
    "from imblearn.pipeline import Pipeline\n",
    "param_range = [0.05,0.1,0.15,0.2,0.25,0.3,0.4]\n",
    "\n",
    "\n",
    "pipe_svc = Pipeline([('classifier', LR(random_state = 5,class_weight='balanced'))])\n",
    "param_grid = [{'classifier__C': param_range,\n",
    "    'classifier__class_weight':[{0:.1, 1:.9},{0:.01, 1:.99},'balanced',{0:.3, 1:.7},{0:.2, 1:.99}]\n",
    "              }]\n",
    "\n",
    "gs = GridSearchCV(estimator=pipe_svc, \n",
    "                  param_grid=param_grid, \n",
    "                  scoring='f1', \n",
    "                  cv=2,verbose=100,\n",
    "                  n_jobs=1)\n",
    "\n",
    "gs = gs.fit(X_train, y_train)"
   ]
  },
  {
   "cell_type": "code",
   "execution_count": 50,
   "metadata": {},
   "outputs": [
    {
     "name": "stdout",
     "output_type": "stream",
     "text": [
      "{'classifier__C': 0.05, 'classifier__class_weight': {0: 0.2, 1: 0.99}}\n",
      "(199364, 30)\n"
     ]
    }
   ],
   "source": [
    "print(gs.best_params_)\n",
    "gridsearch_best_estimator=gs.best_estimator_\n",
    "print(X_train.shape)"
   ]
  },
  {
   "cell_type": "code",
   "execution_count": 51,
   "metadata": {},
   "outputs": [
    {
     "name": "stderr",
     "output_type": "stream",
     "text": [
      "/home/matej/anaconda3/lib/python3.7/site-packages/sklearn/linear_model/logistic.py:433: FutureWarning: Default solver will be changed to 'lbfgs' in 0.22. Specify a solver to silence this warning.\n",
      "  FutureWarning)\n"
     ]
    }
   ],
   "source": [
    "bla=gridsearch_best_estimator.fit(X_train,y_train) "
   ]
  },
  {
   "cell_type": "code",
   "execution_count": 52,
   "metadata": {},
   "outputs": [
    {
     "name": "stdout",
     "output_type": "stream",
     "text": [
      "[[85257    31]\n",
      " [   27   128]]\n"
     ]
    },
    {
     "data": {
      "image/png": "[encoded data removed]",
      "text/plain": [
       "<Figure size 324x324 with 1 Axes>"
      ]
     },
     "metadata": {
      "needs_background": "light"
     },
     "output_type": "display_data"
    },
    {
     "name": "stdout",
     "output_type": "stream",
     "text": [
      "Precision: 0.805\n",
      "Recall: 0.826\n",
      "F1: 0.815\n"
     ]
    }
   ],
   "source": [
    "y_pred=bla.predict(X_test)\n",
    "confmat=confusion_matrix(y_true=y_test,y_pred=y_pred)\n",
    "print(confmat)\n",
    "draw_ConfusionMatrix(confmat,\"Logistic Regresion with Class Weight paramtar\")\n",
    "\n",
    "print('Precision: %.3f' % precision_score(y_true=y_test, y_pred=y_pred))\n",
    "print('Recall: %.3f' % recall_score(y_true=y_test, y_pred=y_pred))\n",
    "print('F1: %.3f' % f1_score(y_true=y_test, y_pred=y_pred))"
   ]
  },
  {
   "cell_type": "code",
   "execution_count": null,
   "metadata": {},
   "outputs": [],
   "source": []
  }
 ],
 "metadata": {
  "kernelspec": {
   "display_name": "Python 3",
   "language": "python",
   "name": "python3"
  },
  "language_info": {
   "codemirror_mode": {
    "name": "ipython",
    "version": 3
   },
   "file_extension": ".py",
   "mimetype": "text/x-python",
   "name": "python",
   "nbconvert_exporter": "python",
   "pygments_lexer": "ipython3",
   "version": "3.7.3"
  }
 },
 "nbformat": 4,
 "nbformat_minor": 2
}
