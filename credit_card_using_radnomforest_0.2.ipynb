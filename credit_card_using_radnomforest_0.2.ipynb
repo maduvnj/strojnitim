{
 "cells": [
  {
   "cell_type": "markdown",
   "metadata": {},
   "source": [
    "# Credit card fraud detection pomoću RandomForest klasifikatora"
   ]
  },
  {
   "cell_type": "code",
   "execution_count": 1,
   "metadata": {},
   "outputs": [
    {
     "data": {
      "text/html": [
       "<div>\n",
       "<style scoped>\n",
       "    .dataframe tbody tr th:only-of-type {\n",
       "        vertical-align: middle;\n",
       "    }\n",
       "\n",
       "    .dataframe tbody tr th {\n",
       "        vertical-align: top;\n",
       "    }\n",
       "\n",
       "    .dataframe thead th {\n",
       "        text-align: right;\n",
       "    }\n",
       "</style>\n",
       "<table border=\"1\" class=\"dataframe\">\n",
       "  <thead>\n",
       "    <tr style=\"text-align: right;\">\n",
       "      <th></th>\n",
       "      <th>Time</th>\n",
       "      <th>V1</th>\n",
       "      <th>V2</th>\n",
       "      <th>V3</th>\n",
       "      <th>V4</th>\n",
       "      <th>V5</th>\n",
       "      <th>V6</th>\n",
       "      <th>V7</th>\n",
       "      <th>V8</th>\n",
       "      <th>V9</th>\n",
       "      <th>...</th>\n",
       "      <th>V21</th>\n",
       "      <th>V22</th>\n",
       "      <th>V23</th>\n",
       "      <th>V24</th>\n",
       "      <th>V25</th>\n",
       "      <th>V26</th>\n",
       "      <th>V27</th>\n",
       "      <th>V28</th>\n",
       "      <th>Amount</th>\n",
       "      <th>Class</th>\n",
       "    </tr>\n",
       "  </thead>\n",
       "  <tbody>\n",
       "    <tr>\n",
       "      <th>0</th>\n",
       "      <td>0.0</td>\n",
       "      <td>-1.359807</td>\n",
       "      <td>-0.072781</td>\n",
       "      <td>2.536347</td>\n",
       "      <td>1.378155</td>\n",
       "      <td>-0.338321</td>\n",
       "      <td>0.462388</td>\n",
       "      <td>0.239599</td>\n",
       "      <td>0.098698</td>\n",
       "      <td>0.363787</td>\n",
       "      <td>...</td>\n",
       "      <td>-0.018307</td>\n",
       "      <td>0.277838</td>\n",
       "      <td>-0.110474</td>\n",
       "      <td>0.066928</td>\n",
       "      <td>0.128539</td>\n",
       "      <td>-0.189115</td>\n",
       "      <td>0.133558</td>\n",
       "      <td>-0.021053</td>\n",
       "      <td>149.62</td>\n",
       "      <td>0</td>\n",
       "    </tr>\n",
       "    <tr>\n",
       "      <th>1</th>\n",
       "      <td>0.0</td>\n",
       "      <td>1.191857</td>\n",
       "      <td>0.266151</td>\n",
       "      <td>0.166480</td>\n",
       "      <td>0.448154</td>\n",
       "      <td>0.060018</td>\n",
       "      <td>-0.082361</td>\n",
       "      <td>-0.078803</td>\n",
       "      <td>0.085102</td>\n",
       "      <td>-0.255425</td>\n",
       "      <td>...</td>\n",
       "      <td>-0.225775</td>\n",
       "      <td>-0.638672</td>\n",
       "      <td>0.101288</td>\n",
       "      <td>-0.339846</td>\n",
       "      <td>0.167170</td>\n",
       "      <td>0.125895</td>\n",
       "      <td>-0.008983</td>\n",
       "      <td>0.014724</td>\n",
       "      <td>2.69</td>\n",
       "      <td>0</td>\n",
       "    </tr>\n",
       "    <tr>\n",
       "      <th>2</th>\n",
       "      <td>1.0</td>\n",
       "      <td>-1.358354</td>\n",
       "      <td>-1.340163</td>\n",
       "      <td>1.773209</td>\n",
       "      <td>0.379780</td>\n",
       "      <td>-0.503198</td>\n",
       "      <td>1.800499</td>\n",
       "      <td>0.791461</td>\n",
       "      <td>0.247676</td>\n",
       "      <td>-1.514654</td>\n",
       "      <td>...</td>\n",
       "      <td>0.247998</td>\n",
       "      <td>0.771679</td>\n",
       "      <td>0.909412</td>\n",
       "      <td>-0.689281</td>\n",
       "      <td>-0.327642</td>\n",
       "      <td>-0.139097</td>\n",
       "      <td>-0.055353</td>\n",
       "      <td>-0.059752</td>\n",
       "      <td>378.66</td>\n",
       "      <td>0</td>\n",
       "    </tr>\n",
       "    <tr>\n",
       "      <th>3</th>\n",
       "      <td>1.0</td>\n",
       "      <td>-0.966272</td>\n",
       "      <td>-0.185226</td>\n",
       "      <td>1.792993</td>\n",
       "      <td>-0.863291</td>\n",
       "      <td>-0.010309</td>\n",
       "      <td>1.247203</td>\n",
       "      <td>0.237609</td>\n",
       "      <td>0.377436</td>\n",
       "      <td>-1.387024</td>\n",
       "      <td>...</td>\n",
       "      <td>-0.108300</td>\n",
       "      <td>0.005274</td>\n",
       "      <td>-0.190321</td>\n",
       "      <td>-1.175575</td>\n",
       "      <td>0.647376</td>\n",
       "      <td>-0.221929</td>\n",
       "      <td>0.062723</td>\n",
       "      <td>0.061458</td>\n",
       "      <td>123.50</td>\n",
       "      <td>0</td>\n",
       "    </tr>\n",
       "    <tr>\n",
       "      <th>4</th>\n",
       "      <td>2.0</td>\n",
       "      <td>-1.158233</td>\n",
       "      <td>0.877737</td>\n",
       "      <td>1.548718</td>\n",
       "      <td>0.403034</td>\n",
       "      <td>-0.407193</td>\n",
       "      <td>0.095921</td>\n",
       "      <td>0.592941</td>\n",
       "      <td>-0.270533</td>\n",
       "      <td>0.817739</td>\n",
       "      <td>...</td>\n",
       "      <td>-0.009431</td>\n",
       "      <td>0.798278</td>\n",
       "      <td>-0.137458</td>\n",
       "      <td>0.141267</td>\n",
       "      <td>-0.206010</td>\n",
       "      <td>0.502292</td>\n",
       "      <td>0.219422</td>\n",
       "      <td>0.215153</td>\n",
       "      <td>69.99</td>\n",
       "      <td>0</td>\n",
       "    </tr>\n",
       "  </tbody>\n",
       "</table>\n",
       "<p>5 rows × 31 columns</p>\n",
       "</div>"
      ],
      "text/plain": [
       "   Time        V1        V2        V3        V4        V5        V6        V7  \\\n",
       "0   0.0 -1.359807 -0.072781  2.536347  1.378155 -0.338321  0.462388  0.239599   \n",
       "1   0.0  1.191857  0.266151  0.166480  0.448154  0.060018 -0.082361 -0.078803   \n",
       "2   1.0 -1.358354 -1.340163  1.773209  0.379780 -0.503198  1.800499  0.791461   \n",
       "3   1.0 -0.966272 -0.185226  1.792993 -0.863291 -0.010309  1.247203  0.237609   \n",
       "4   2.0 -1.158233  0.877737  1.548718  0.403034 -0.407193  0.095921  0.592941   \n",
       "\n",
       "         V8        V9  ...       V21       V22       V23       V24       V25  \\\n",
       "0  0.098698  0.363787  ... -0.018307  0.277838 -0.110474  0.066928  0.128539   \n",
       "1  0.085102 -0.255425  ... -0.225775 -0.638672  0.101288 -0.339846  0.167170   \n",
       "2  0.247676 -1.514654  ...  0.247998  0.771679  0.909412 -0.689281 -0.327642   \n",
       "3  0.377436 -1.387024  ... -0.108300  0.005274 -0.190321 -1.175575  0.647376   \n",
       "4 -0.270533  0.817739  ... -0.009431  0.798278 -0.137458  0.141267 -0.206010   \n",
       "\n",
       "        V26       V27       V28  Amount  Class  \n",
       "0 -0.189115  0.133558 -0.021053  149.62      0  \n",
       "1  0.125895 -0.008983  0.014724    2.69      0  \n",
       "2 -0.139097 -0.055353 -0.059752  378.66      0  \n",
       "3 -0.221929  0.062723  0.061458  123.50      0  \n",
       "4  0.502292  0.219422  0.215153   69.99      0  \n",
       "\n",
       "[5 rows x 31 columns]"
      ]
     },
     "execution_count": 1,
     "metadata": {},
     "output_type": "execute_result"
    }
   ],
   "source": [
    "from sklearn.datasets import make_blobs\n",
    "import warnings\n",
    "warnings.simplefilter(action='ignore', category=FutureWarning)\n",
    "from sklearn.pipeline import Pipeline\n",
    "from sklearn.model_selection import train_test_split\n",
    "from sklearn.ensemble import RandomForestClassifier\n",
    "import pandas as pd\n",
    "import numpy as np\n",
    "from sklearn import metrics\n",
    "from sklearn.metrics import precision_recall_fscore_support\n",
    "\n",
    "data = pd.read_csv('creditcard.csv')\n",
    "data.head()"
   ]
  },
  {
   "cell_type": "markdown",
   "metadata": {},
   "source": [
    "# Skaliranje podataka:"
   ]
  },
  {
   "cell_type": "code",
   "execution_count": 2,
   "metadata": {},
   "outputs": [
    {
     "data": {
      "text/plain": [
       "<Figure size 1800x400 with 2 Axes>"
      ]
     },
     "metadata": {},
     "output_type": "display_data"
    }
   ],
   "source": [
    "import seaborn as sns\n",
    "import matplotlib.pyplot as plt\n",
    "\n",
    "\n",
    "fig, ax = plt.subplots(1, 2, figsize=(18,4))\n",
    "\n",
    "amount_val = data['Amount'].values\n",
    "time_val = data['Time'].values\n",
    "\n",
    "sns.distplot(time_val, ax=ax[0], color='black')\n",
    "ax[0].set_title('Distribucija vremena transakcija', fontsize=14)\n",
    "ax[0].set_xlim([min(time_val), max(time_val)])\n",
    "\n",
    "sns.distplot(amount_val, ax=ax[1], color='red')\n",
    "ax[1].set_title('Distribucija iznosa transakcija', fontsize=14)\n",
    "ax[1].set_xlim([min(amount_val), max(amount_val)])\n",
    "\n",
    "\n",
    "\n",
    "\n",
    "\n",
    "plt.show()\n"
   ]
  },
  {
   "cell_type": "markdown",
   "metadata": {},
   "source": [
    "### Skaliram samo iznos, jer vrijeme prati dan/noć uzorak (manje transakcija po noći): "
   ]
  },
  {
   "cell_type": "code",
   "execution_count": 3,
   "metadata": {},
   "outputs": [
    {
     "data": {
      "image/png": "[encoded data removed]",
      "text/plain": [
       "<Figure size 1080x576 with 1 Axes>"
      ]
     },
     "metadata": {
      "needs_background": "light"
     },
     "output_type": "display_data"
    }
   ],
   "source": [
    "from sklearn.preprocessing import RobustScaler\n",
    "\n",
    "rob_scaler = RobustScaler()\n",
    "scaled_amount = rob_scaler.fit_transform(data['Amount'].values.reshape(-1,1))\n",
    "\n",
    "data.drop(['Amount'], axis=1, inplace=True)\n",
    "data['Amount'] = scaled_amount\n",
    "\n",
    "plt.figure(figsize=(15,8))\n",
    "scale_amount_val = data['Amount'].values\n",
    "sns.distplot(scale_amount_val, color='r').set_title('Distribucija skaliranog iznosa transakcija')\n",
    "plt.show()"
   ]
  },
  {
   "cell_type": "code",
   "execution_count": 4,
   "metadata": {},
   "outputs": [],
   "source": [
    "sns.set()\n",
    "%matplotlib inline\n",
    "from sklearn.metrics import confusion_matrix\n",
    "\n",
    "\n",
    "class_names = ['not_fraud', 'fraud']\n",
    "\n",
    "def ConfMatrix(y_test, y_pred):\n",
    "    matrix = confusion_matrix(y_test, y_pred)\n",
    "    # Create pandas dataframe\n",
    "    dataframe = pd.DataFrame(matrix, index=class_names, columns=class_names)\n",
    "    # Create heatmap\n",
    "    sns.heatmap(dataframe, annot=True, cbar=None, cmap=\"Blues\", fmt = 'g')\n",
    "    plt.title(\"Confusion Matrix\"), plt.tight_layout()\n",
    "    plt.ylabel(\"True Class\"), plt.xlabel(\"Predicted Class\")\n",
    "    plt.show()\n",
    "    \n",
    "\n",
    "\n",
    "def printstat(y_test,y_pred):\n",
    "    prec,recall,f_score,_=precision_recall_fscore_support(y_test, y_pred, average='binary')\n",
    "    print('Prec={:f}, Recall={:f}, f_score={:f}'.format(prec, recall, f_score))"
   ]
  },
  {
   "cell_type": "code",
   "execution_count": 5,
   "metadata": {},
   "outputs": [],
   "source": [
    "features = ['V%d' % number for number in range(1, 29)] + ['Amount'] + ['Time']\n",
    "X = data[features]\n",
    "y = data['Class']\n",
    "#list(y).count(1)\n",
    "\n",
    "X_train, X_test, y_train, y_test = train_test_split(X, y, test_size=0.3)\n"
   ]
  },
  {
   "cell_type": "code",
   "execution_count": 6,
   "metadata": {},
   "outputs": [
    {
     "data": {
      "image/png": "[encoded data removed]",
      "text/plain": [
       "<Figure size 432x288 with 1 Axes>"
      ]
     },
     "metadata": {
      "needs_background": "light"
     },
     "output_type": "display_data"
    },
    {
     "name": "stdout",
     "output_type": "stream",
     "text": [
      "Prec=0.923077, Recall=0.739726, f_score=0.821293\n"
     ]
    }
   ],
   "source": [
    "from sklearn.ensemble import RandomForestClassifier\n",
    "rf=RandomForestClassifier(n_jobs=-1)\n",
    "rf_bazni_model=rf.fit(X_train,y_train)\n",
    "y_pred=rf_bazni_model.predict(X_test)\n",
    "\n",
    "ConfMatrix(y_test,y_pred)\n",
    "printstat(y_test,y_pred)\n",
    "\n",
    "# rezultati na random forest classifieru"
   ]
  },
  {
   "cell_type": "markdown",
   "metadata": {},
   "source": [
    "# SADA ĆU NAPRAVIT SAMPLING DA VIDIMO REZULTATE:"
   ]
  },
  {
   "cell_type": "markdown",
   "metadata": {},
   "source": []
  },
  {
   "cell_type": "code",
   "execution_count": 7,
   "metadata": {},
   "outputs": [],
   "source": [
    "#### Pogreškom sam prvo optimizirao hyperparametre na nebalansiranom setu podataka za random forest klasifikator\n",
    "# ovo su parametri koje sam dobio grid searchom \n",
    "#rf=RandomForestClassifier(  bootstrap = True,\n",
    "#                            max_depth = 90,\n",
    "#                            max_features = 3,\n",
    "#                            min_samples_leaf = 3,\n",
    "#                            min_samples_split = 8,\n",
    "#                            n_estimators = 100,\n",
    "#                            n_jobs = -1 )"
   ]
  },
  {
   "cell_type": "code",
   "execution_count": null,
   "metadata": {},
   "outputs": [],
   "source": [
    "\n",
    "## SMOTE \n",
    "\n",
    "from imblearn.over_sampling import SMOTE\n",
    "smote = SMOTE(random_state=0)\n",
    "X_smote_train, y_smote_train= smote.fit_sample(X_train, y_train)\n",
    "\n",
    "rf.fit(X_smote_train,y_smote_train)\n",
    "y_pred=rf.predict(X_test)\n",
    "print('SMOTE:')\n",
    "printstat(y_test,y_pred)\n",
    "ConfMatrix(y_test, y_pred)\n",
    "\n",
    "## RandomUnderSampler\n",
    "\n",
    "from imblearn.under_sampling import RandomUnderSampler\n",
    "rus = RandomUnderSampler(random_state=0)\n",
    "X_rus_train, y_rus_train = rus.fit_sample(X_train, y_train)\n",
    "\n",
    "rf.fit(X_rus_train,y_rus_train)\n",
    "y_pred=rf.predict(X_test)\n",
    "print('RUS:')\n",
    "printstat(y_test,y_pred)\n",
    "ConfMatrix(y_test, y_pred)\n",
    "\n",
    "## RandomOverSampler\n",
    "\n",
    "from imblearn.over_sampling import RandomOverSampler\n",
    "ros = RandomOverSampler(random_state=0)\n",
    "X_ros_train, y_ros_train = ros.fit_sample(X_train, y_train)\n",
    "\n",
    "rf.fit(X_ros_train,y_ros_train)\n",
    "y_pred=rf.predict(X_test)\n",
    "print('ROS:')\n",
    "printstat(y_test,y_pred)\n",
    "ConfMatrix(y_test, y_pred)\n",
    "\n",
    "## Tomek Links\n",
    "\n",
    "from imblearn.under_sampling import TomekLinks\n",
    "tomekl = TomekLinks(random_state=0,n_jobs=-1)\n",
    "X_tomekl_train, y_tomekl_train = tomekl.fit_sample(X_train, y_train)\n",
    "\n",
    "rf.fit(X_tomekl_train,y_tomekl_train)\n",
    "y_pred=rf.predict(X_test)\n",
    "print('TOMEK LINKS:')\n",
    "printstat(y_test,y_pred)\n",
    "ConfMatrix(y_test, y_pred)\n",
    "\n",
    "## SMOTE ENN\n",
    "\n",
    "from imblearn.combine import SMOTEENN\n",
    "senn = SMOTEENN(random_state=0)\n",
    "X_senn_train, y_senn_train = senn.fit_sample(X_train, y_train)\n",
    "\n",
    "rf.fit(X_senn_train,y_senn_train)\n",
    "y_pred=rf.predict(X_test)\n",
    "print('SMOTE ENN:')\n",
    "printstat(y_test,y_pred)\n",
    "ConfMatrix(y_test, y_pred)\n",
    "\n",
    "## SMOTE TOMEK\n",
    "\n",
    "from imblearn.combine import SMOTETomek\n",
    "stomek = SMOTETomek (random_state=0)\n",
    "X_stomek_train, y_stomek_train = stomek.fit_sample(X_train, y_train)\n",
    "print('SMOTE TOMEK:')\n",
    "rf.fit(X_stomek_train,y_stomek_train)\n",
    "y_pred=rf.predict(X_test)\n",
    "\n",
    "printstat(y_test,y_pred)\n",
    "ConfMatrix(y_test, y_pred)"
   ]
  },
  {
   "cell_type": "markdown",
   "metadata": {},
   "source": [
    "# Traženje optimalnih hyperparametara pomoću GridSearchCV:"
   ]
  },
  {
   "cell_type": "code",
   "execution_count": null,
   "metadata": {},
   "outputs": [],
   "source": [
    "\n",
    "# n_estimators - broj stabala u rf\n",
    "# max_features - broj featura koji se uzimaju u obzir pri odlučivanju u čvoru\n",
    "# max_depth - dubina\n",
    "# min_samples_split - minimalni broj uzoraka da se donese odluka u čvoru\n",
    "# min_samples_leaf - minimalni broj uzoraka da se donese odluka u listu\n",
    "# bootstrap - metoda odabira uzorka za trening svakog stabla\n",
    "\n",
    "param_grid = {\n",
    "    'bootstrap': [True],\n",
    "    'max_depth': [80, 90, 100, 110],\n",
    "    'max_features': [2, 3],\n",
    "    'min_samples_leaf': [3, 4, 5],\n",
    "    'min_samples_split': [8, 10, 12],\n",
    "    'n_estimators': [100, 200, 300, 500]}\n",
    "\n"
   ]
  },
  {
   "cell_type": "code",
   "execution_count": null,
   "metadata": {},
   "outputs": [],
   "source": [
    "from sklearn.model_selection import GridSearchCV\n",
    "\n",
    "grid_search = GridSearchCV(rf, param_grid, cv = 3, n_jobs = 8, verbose = 2)\n",
    "\n",
    "best = grid_search.fit(X_train, y_train)\n"
   ]
  },
  {
   "cell_type": "code",
   "execution_count": null,
   "metadata": {},
   "outputs": [],
   "source": [
    "best.best_params_"
   ]
  },
  {
   "cell_type": "code",
   "execution_count": null,
   "metadata": {},
   "outputs": [],
   "source": [
    "rf_opt = RandomForestClassifier(  bootstrap = True,\n",
    "                            max_depth = 90,\n",
    "                            max_features = 3,\n",
    "                            min_samples_leaf = 3,\n",
    "                            min_samples_split = 8,\n",
    "                            n_estimators = 100,\n",
    "                            n_jobs = -1 )"
   ]
  },
  {
   "cell_type": "markdown",
   "metadata": {},
   "source": [
    "# Matrica korelacije:"
   ]
  },
  {
   "cell_type": "code",
   "execution_count": null,
   "metadata": {},
   "outputs": [],
   "source": [
    "# stvaranje dataframea na balansiranom skupu za matricu korelacije \n",
    "newdata_X = pd.DataFrame(data=X_stomek_train,columns=X_train.columns)\n",
    "newdata_Y = pd.DataFrame(data=y_stomek_train,columns=[\"Class\"])\n",
    "new_data = newdata_X\n",
    "new_data[\"Class\"] = newdata_Y[\"Class\"]\n",
    "#new_data.info()"
   ]
  },
  {
   "cell_type": "code",
   "execution_count": null,
   "metadata": {},
   "outputs": [],
   "source": [
    "f, (ax1, ax2) = plt.subplots(2, 1, figsize=(24,20))\n",
    "\n",
    "# nebalansirani skup podataka\n",
    "corr = data.corr()\n",
    "sns.heatmap(corr, cmap='coolwarm_r', annot_kws={'size':20}, ax=ax1)\n",
    "ax1.set_title('Matrica korelacije dobivena na nebalansiranom skupu podataka \\n(nije dobra za odabir značajki)', \n",
    "              fontsize=14)\n",
    "\n",
    "#balansirani skup podataka\n",
    "\n",
    "sub_sample_corr = new_data.corr()\n",
    "sns.heatmap(sub_sample_corr, cmap='coolwarm_r', annot_kws={'size':20}, ax=ax2)\n",
    "ax2.set_title('Matrica korelacije dobivena na balansiranom skupu podataka \\n(pomoću nje odabremo značajke)', fontsize=14)\n",
    "plt.show()"
   ]
  },
  {
   "cell_type": "markdown",
   "metadata": {},
   "source": [
    "### pozitivna korelacija = \"ako se jedna varijabla poveća ona s kojom je u pozitivnoj korelaciji će se isto povećat\"\n",
    "### negativna korelacija = \"ako se jedna varijabla smanji ona s kojom je u negativnoj korelaciji će se povećat\"\n",
    "## Iznos korelacije je iz domene [-1,1]:\n",
    " ##    1.00 znači savršeni pozitivni utjecaj\n",
    " ##    0 da nema utjecaja\n",
    " ##   -1.00 savršeni negativni utjecaj"
   ]
  },
  {
   "cell_type": "markdown",
   "metadata": {},
   "source": [
    "### Sa gornje matrice se vidi da su V14, V12, V10, V16 u negativnoj korelaciji sa Class - to znači što su te vrijednosti manje (bliže -1) da će transakcija vrlo vjerojatno biti Fraud.\n",
    "\n",
    "### Također se vidi da su V11, V4, V2 i V19 u pozitivnoj korelaciji sa Class -  to znači što su te vrijednosti veće  (bliže 1) da će transakcija vrlo vjerojatno biti Fraud.\n",
    "\n",
    "#### npr. V23 sudeći \"golim okom\" uopće ne utječe na transakciju"
   ]
  },
  {
   "cell_type": "code",
   "execution_count": null,
   "metadata": {},
   "outputs": [],
   "source": [
    "f, axes = plt.subplots(ncols=4, figsize=(20,4))\n",
    "colors = [\"#0101DF\", \"#DF0101\"]\n",
    "# negativna korelacija s Class = \"ako se V% smanji i Class će se povećat i vrlo vjerojratno biti Fraud\"\n",
    "sns.boxplot(x=\"Class\", y=\"V14\", data=new_data, palette=colors, ax=axes[0])\n",
    "axes[0].set_title('V14 vs Class Negative Correlation')\n",
    "\n",
    "sns.boxplot(x=\"Class\", y=\"V12\", data=new_data, palette=colors, ax=axes[1])\n",
    "axes[1].set_title('V12 vs Class Negative Correlation')\n",
    "\n",
    "\n",
    "sns.boxplot(x=\"Class\", y=\"V10\", data=new_data, palette=colors, ax=axes[2])\n",
    "axes[2].set_title('V10 vs Class Negative Correlation')\n",
    "\n",
    "\n",
    "sns.boxplot(x=\"Class\", y=\"V16\", data=new_data, palette=colors, ax=axes[3])\n",
    "axes[3].set_title('V16 vs Class Negative Correlation')\n",
    "\n",
    "plt.show()"
   ]
  },
  {
   "cell_type": "code",
   "execution_count": null,
   "metadata": {},
   "outputs": [],
   "source": [
    "f, axes = plt.subplots(ncols=4, figsize=(20,4))\n",
    "\n",
    "# pozitivna korelacija s Class = \"ako se V% poveća i Class će se povećat i vrlo vjerojratno biti Fraud\"\n",
    "sns.boxplot(x=\"Class\", y=\"V11\", data=new_data, palette=colors, ax=axes[0])\n",
    "axes[0].set_title('V11 vs Class Positive Correlation')\n",
    "\n",
    "sns.boxplot(x=\"Class\", y=\"V4\", data=new_data, palette=colors, ax=axes[1])\n",
    "axes[1].set_title('V4 vs Class Positive Correlation')\n",
    "\n",
    "\n",
    "sns.boxplot(x=\"Class\", y=\"V2\", data=new_data, palette=colors, ax=axes[2])\n",
    "axes[2].set_title('V2 vs Class Positive Correlation')\n",
    "\n",
    "\n",
    "sns.boxplot(x=\"Class\", y=\"V19\", data=new_data, palette=colors, ax=axes[3])\n",
    "axes[3].set_title('V19 vs Class Positive Correlation')\n",
    "\n",
    "plt.show()\n",
    "\n",
    "\n"
   ]
  },
  {
   "cell_type": "markdown",
   "metadata": {},
   "source": [
    "# Outlier detection na oversampled datasetu:"
   ]
  },
  {
   "cell_type": "markdown",
   "metadata": {},
   "source": [
    "### https://machinelearningmastery.com/how-to-use-statistics-to-identify-outliers-in-data/\n",
    "\n",
    "## Koristim IQR metodu opisanu na linku:"
   ]
  },
  {
   "cell_type": "code",
   "execution_count": null,
   "metadata": {},
   "outputs": [],
   "source": [
    "v14_fraud = new_data['V14'].loc[new_data['Class'] == 1].values\n",
    "q25, q75 = np.percentile(v14_fraud, 25), np.percentile(v14_fraud, 75)\n",
    "v14_iqr = q75 - q25\n",
    "v14_cut_off = v14_iqr * 1.5\n",
    "v14_lower, v14_upper = q25 - v14_cut_off, q75 + v14_cut_off\n",
    "outliers = [x for x in v14_fraud if x < v14_lower or x > v14_upper]\n",
    "new_data = new_data.drop(new_data[(new_data['V14'] > v14_upper) | (new_data['V14'] < v14_lower)].index)\n",
    "\n",
    "v12_fraud = new_data['V12'].loc[new_data['Class'] == 1].values\n",
    "q25, q75 = np.percentile(v12_fraud, 25), np.percentile(v12_fraud, 75)\n",
    "v12_iqr = q75 - q25\n",
    "v12_cut_off = v12_iqr * 1.5\n",
    "v12_lower, v12_upper = q25 - v12_cut_off, q75 + v12_cut_off\n",
    "outliers = [x for x in v12_fraud if x < v12_lower or x > v12_upper]\n",
    "new_data = new_data.drop(new_data[(new_data['V12'] > v12_upper) | (new_data['V12'] < v12_lower)].index)\n",
    "\n",
    "v10_fraud = new_data['V10'].loc[new_data['Class'] == 1].values\n",
    "q25, q75 = np.percentile(v10_fraud, 25), np.percentile(v10_fraud, 75)\n",
    "v10_iqr = q75 - q25\n",
    "v10_cut_off = v10_iqr * 1.5\n",
    "v10_lower, v10_upper = q25 - v10_cut_off, q75 + v10_cut_off\n",
    "outliers = [x for x in v10_fraud if x < v10_lower or x > v10_upper]\n",
    "new_data = new_data.drop(new_data[(new_data['V10'] > v10_upper) | (new_data['V10'] < v10_lower)].index)\n",
    "\n",
    "v16_fraud = new_data['V16'].loc[new_data['Class'] == 1].values\n",
    "q25, q75 = np.percentile(v16_fraud, 25), np.percentile(v16_fraud, 75)\n",
    "v16_iqr = q75 - q25\n",
    "v16_cut_off = v16_iqr * 1.5\n",
    "v16_lower, v16_upper = q25 - v16_cut_off, q75 + v16_cut_off\n",
    "outliers = [x for x in v16_fraud if x < v16_lower or x > v16_upper]\n",
    "new_data = new_data.drop(new_data[(new_data['V16'] > v16_upper) | (new_data['V16'] < v16_lower)].index)\n",
    "\n",
    "\n",
    "v11_fraud = new_data['V11'].loc[new_data['Class'] == 1].values\n",
    "q25, q75 = np.percentile(v11_fraud, 25), np.percentile(v11_fraud, 75)\n",
    "v11_iqr = q75 - q25\n",
    "v11_cut_off = v11_iqr * 1.5\n",
    "v11_lower, v11_upper = q25 - v11_cut_off, q75 + v11_cut_off\n",
    "outliers = [x for x in v11_fraud if x < v11_lower or x > v11_upper]\n",
    "new_data = new_data.drop(new_data[(new_data['V11'] > v11_upper) | (new_data['V11'] < v11_lower)].index)\n",
    "\n",
    "v4_fraud = new_data['V4'].loc[new_data['Class'] == 1].values\n",
    "q25, q75 = np.percentile(v4_fraud, 25), np.percentile(v4_fraud, 75)\n",
    "v4_iqr = q75 - q25\n",
    "v4_cut_off = v4_iqr * 1.5\n",
    "v4_lower, v4_upper = q25 - v4_cut_off, q75 + v4_cut_off\n",
    "outliers = [x for x in v4_fraud if x < v4_lower or x > v4_upper]\n",
    "new_data = new_data.drop(new_data[(new_data['V4'] > v4_upper) | (new_data['V4'] < v4_lower)].index)\n",
    "\n",
    "v2_fraud = new_data['V2'].loc[new_data['Class'] == 1].values\n",
    "q25, q75 = np.percentile(v2_fraud, 25), np.percentile(v2_fraud, 75)\n",
    "v2_iqr = q75 - q25\n",
    "v2_cut_off = v2_iqr * 1.5\n",
    "v2_lower, v2_upper = q25 - v2_cut_off, q75 + v2_cut_off\n",
    "outliers = [x for x in v2_fraud if x < v2_lower or x > v2_upper]\n",
    "new_data = new_data.drop(new_data[(new_data['V2'] > v2_upper) | (new_data['V2'] < v2_lower)].index)\n",
    "\n",
    "v19_fraud = new_data['V19'].loc[new_data['Class'] == 1].values\n",
    "q25, q75 = np.percentile(v19_fraud, 25), np.percentile(v19_fraud, 75)\n",
    "v19_iqr = q75 - q25\n",
    "v19_cut_off = v19_iqr * 1.5\n",
    "v19_lower, v19_upper = q25 - v19_cut_off, q75 + v19_cut_off\n",
    "outliers = [x for x in v19_fraud if x < v19_lower or x > v19_upper]\n",
    "new_data = new_data.drop(new_data[(new_data['V19'] > v19_upper) | (new_data['V19'] < v19_lower)].index)"
   ]
  },
  {
   "cell_type": "markdown",
   "metadata": {},
   "source": [
    "## Test na pročišćenom datasetu:"
   ]
  },
  {
   "cell_type": "code",
   "execution_count": null,
   "metadata": {},
   "outputs": [],
   "source": [
    "\n",
    "# nije moguće preklapanje jer smo oversamplali xtrain i ytrain \n",
    "rf_opt.fit(nX, ny)\n",
    "y_pred = rf_opt.predict(X_test)\n",
    "\n",
    "\n",
    "ConfMatrix(y_test,y_pred)\n",
    "printstat(y_test,y_pred)\n"
   ]
  },
  {
   "cell_type": "markdown",
   "metadata": {},
   "source": [
    "# Prikaz najvažnijih značajki pomoću (optimalnog) RF klasifikatora:"
   ]
  },
  {
   "cell_type": "code",
   "execution_count": null,
   "metadata": {},
   "outputs": [],
   "source": [
    "importances = rf_opt.feature_importances_\n",
    "indices = np.argsort(importances)[::-1]"
   ]
  },
  {
   "cell_type": "code",
   "execution_count": null,
   "metadata": {},
   "outputs": [],
   "source": [
    "plt.figure(figsize=(10,8))\n",
    "\n",
    "plt.plot(range(X_train.shape[1]), importances[indices], 'o', color='red')\n",
    "plt.ylabel('važnost značajke')\n",
    "plt.xlim([-1, X_train.shape[1]])\n",
    "plt.xticks(range(X_train.shape[1]), X_train.columns.values[indices], rotation=90)\n",
    "plt.tight_layout()\n",
    "plt.grid(True,linestyle='--')\n",
    "plt.show()"
   ]
  },
  {
   "cell_type": "code",
   "execution_count": null,
   "metadata": {},
   "outputs": [],
   "source": []
  }
 ],
 "metadata": {
  "kernelspec": {
   "display_name": "Python 3",
   "language": "python",
   "name": "python3"
  },
  "language_info": {
   "codemirror_mode": {
    "name": "ipython",
    "version": 3
   },
   "file_extension": ".py",
   "mimetype": "text/x-python",
   "name": "python",
   "nbconvert_exporter": "python",
   "pygments_lexer": "ipython3",
   "version": "3.7.3"
  }
 },
 "nbformat": 4,
 "nbformat_minor": 2
}
